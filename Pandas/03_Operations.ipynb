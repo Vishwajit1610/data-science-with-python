{
 "cells": [
  {
   "cell_type": "markdown",
   "id": "2ca09ef5-fc05-45eb-90de-d71e64f98d44",
   "metadata": {},
   "source": [
    "## Pandas can read and write a dataset in various formats like .xlsx, .csv, .html etc.    \n",
    "### A sample of reading and writing a dataframe is illustrated below:"
   ]
  },
  {
   "cell_type": "code",
   "execution_count": 13,
   "id": "5bbcadb3-4186-40fd-b684-50dfa3cb942e",
   "metadata": {},
   "outputs": [],
   "source": [
    "import pandas as pd"
   ]
  },
  {
   "cell_type": "code",
   "execution_count": 14,
   "id": "87e98b94-e6f1-4132-90a4-0e5d6011bb01",
   "metadata": {},
   "outputs": [
    {
     "name": "stdout",
     "output_type": "stream",
     "text": [
      "    C    D\n",
      "A  11  202\n",
      "B  33   44\n"
     ]
    }
   ],
   "source": [
    "df = pd.DataFrame([[11, 202],\n",
    "                    [33, 44]],\n",
    "                    index = list('AB'),\n",
    "                    columns = list('CD'))\n",
    "print(df)"
   ]
  },
  {
   "cell_type": "code",
   "execution_count": 17,
   "id": "ce9705bb-9559-4016-b91d-e0e3e4b3b5f8",
   "metadata": {},
   "outputs": [],
   "source": [
    "# Writing to excel file \n",
    "df.to_excel('test_file.xlsx', sheet_name = 'Sheet 1')"
   ]
  },
  {
   "cell_type": "code",
   "execution_count": 18,
   "id": "c7e937ca-bd29-48b4-b085-733b22182d97",
   "metadata": {},
   "outputs": [
    {
     "name": "stdout",
     "output_type": "stream",
     "text": [
      "  Unnamed: 0   C    D\n",
      "0          A  11  202\n",
      "1          B  33   44\n"
     ]
    }
   ],
   "source": [
    "# Reading from excel file \n",
    "print(pd.read_excel('test_file.xlsx', 'Sheet 1')) "
   ]
  }
 ],
 "metadata": {
  "kernelspec": {
   "display_name": "Python [conda env:base] *",
   "language": "python",
   "name": "conda-base-py"
  },
  "language_info": {
   "codemirror_mode": {
    "name": "ipython",
    "version": 3
   },
   "file_extension": ".py",
   "mimetype": "text/x-python",
   "name": "python",
   "nbconvert_exporter": "python",
   "pygments_lexer": "ipython3",
   "version": "3.13.5"
  }
 },
 "nbformat": 4,
 "nbformat_minor": 5
}
