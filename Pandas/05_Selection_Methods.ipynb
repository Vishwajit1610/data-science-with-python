{
 "cells": [
  {
   "cell_type": "code",
   "execution_count": 23,
   "id": "9e193721-48cb-4305-a5f2-e0e2ebb73b5a",
   "metadata": {},
   "outputs": [],
   "source": [
    "import pandas as pd"
   ]
  },
  {
   "cell_type": "markdown",
   "id": "ab157322-73e9-4536-bde7-cfdc3731d084",
   "metadata": {},
   "source": [
    "# Selection types"
   ]
  },
  {
   "cell_type": "markdown",
   "id": "397110e1-0c05-48fd-af37-b83de4b11649",
   "metadata": {},
   "source": [
    "## 1. Selection by Position"
   ]
  },
  {
   "cell_type": "markdown",
   "id": "3b449d90-6f91-4aef-a9b2-845d69995108",
   "metadata": {},
   "source": [
    "**The .loc attribute is the governing parameter to select data by a label.  \n",
    "Slicing is performed based on the label of the index.**"
   ]
  },
  {
   "cell_type": "code",
   "execution_count": 24,
   "id": "5b5900cc-6b3c-49b3-a243-09bd3b6692af",
   "metadata": {},
   "outputs": [
    {
     "name": "stdout",
     "output_type": "stream",
     "text": [
      "    D   E\n",
      "A  15  12\n",
      "B  33  54\n",
      "C  10  32\n"
     ]
    }
   ],
   "source": [
    "df = pd.DataFrame([[15, 12],\n",
    "                    [33, 54],\n",
    "                    [10, 32]], \n",
    "                    index = list('ABC'),\n",
    "                    columns = list('DE'))\n",
    "print(df)"
   ]
  },
  {
   "cell_type": "code",
   "execution_count": 25,
   "id": "1287ea58-81bc-440b-bec0-706fa627c09b",
   "metadata": {},
   "outputs": [
    {
     "name": "stdout",
     "output_type": "stream",
     "text": [
      "    D   E\n",
      "A  15  12\n",
      "C  10  32\n"
     ]
    }
   ],
   "source": [
    "print(df.loc[['A','C'],:]) # Returns index (row) named 'A' and 'C'"
   ]
  },
  {
   "cell_type": "code",
   "execution_count": 26,
   "id": "527aea70-e979-41ea-b48f-15c7462f169c",
   "metadata": {},
   "outputs": [
    {
     "name": "stdout",
     "output_type": "stream",
     "text": [
      "A    12\n",
      "B    54\n",
      "C    32\n",
      "Name: E, dtype: int64\n"
     ]
    }
   ],
   "source": [
    "print(df.loc[:,'E']) # Returns column named 'E'"
   ]
  },
  {
   "cell_type": "code",
   "execution_count": 27,
   "id": "67836494-7771-4bbc-ade7-e300ac479d0d",
   "metadata": {},
   "outputs": [
    {
     "name": "stdout",
     "output_type": "stream",
     "text": [
      "33\n"
     ]
    }
   ],
   "source": [
    "print(df.loc['B', 'D']) # Returns value in Index 'B' and Column 'D'"
   ]
  },
  {
   "cell_type": "markdown",
   "id": "5c60c80e-e3c0-44df-9224-b49ba0c77b3d",
   "metadata": {},
   "source": [
    "## 2. Selection by Position"
   ]
  },
  {
   "cell_type": "markdown",
   "id": "e65bbd28-e633-4294-afc5-7f46f109e524",
   "metadata": {},
   "source": [
    "**Here, the .iloc attribute is the governing parameter to select data and slicing is performed based on the position.**"
   ]
  },
  {
   "cell_type": "code",
   "execution_count": 28,
   "id": "c455bff7-0ab8-4a63-adeb-bf2f50817e43",
   "metadata": {},
   "outputs": [
    {
     "name": "stdout",
     "output_type": "stream",
     "text": [
      "    0   1\n",
      "0  15  12\n",
      "1  33  54\n",
      "2  10  32\n"
     ]
    }
   ],
   "source": [
    "df = pd.DataFrame([[15, 12],\n",
    "                    [33, 54],\n",
    "                    [10, 32]])\n",
    "print(df)"
   ]
  },
  {
   "cell_type": "code",
   "execution_count": 29,
   "id": "44579756-914c-4a28-9710-fc8a44d7e996",
   "metadata": {},
   "outputs": [
    {
     "name": "stdout",
     "output_type": "stream",
     "text": [
      "    0   1\n",
      "0  15  12\n",
      "1  33  54\n"
     ]
    }
   ],
   "source": [
    "print(df.iloc[0:2,:]) # Slices the data from index 0 to 2 "
   ]
  },
  {
   "cell_type": "code",
   "execution_count": 30,
   "id": "5db49908-338e-4bd8-a83f-92dd8fa4bba6",
   "metadata": {},
   "outputs": [
    {
     "name": "stdout",
     "output_type": "stream",
     "text": [
      "    0\n",
      "0  15\n",
      "1  33\n",
      "2  10\n"
     ]
    }
   ],
   "source": [
    "print(df.iloc[:,0:1]) # Slices the data from column 0 to 1"
   ]
  },
  {
   "cell_type": "code",
   "execution_count": 31,
   "id": "9968bbc5-96d5-4c14-9726-9dc5e4f25097",
   "metadata": {},
   "outputs": [
    {
     "name": "stdout",
     "output_type": "stream",
     "text": [
      "    0   1\n",
      "0  15  12\n",
      "1  33  54\n",
      "2  10  32\n"
     ]
    }
   ],
   "source": [
    "print(df.iloc[:,:]) # Returns all the data since no slicing done. "
   ]
  },
  {
   "cell_type": "markdown",
   "id": "e6501afc-2d4d-42a9-ab2a-332ba3c9e4a0",
   "metadata": {},
   "source": [
    "## 3. Selection Using Regular Expression"
   ]
  },
  {
   "cell_type": "markdown",
   "id": "1c9f719b-bfc6-46e0-83b0-bdda9e43a191",
   "metadata": {},
   "source": [
    "**Regex expression comes handy to select a particular data (row/column) using filter () function.**"
   ]
  },
  {
   "cell_type": "code",
   "execution_count": 32,
   "id": "14ecfae8-c833-4847-b2cb-6614f11086d5",
   "metadata": {},
   "outputs": [
    {
     "name": "stdout",
     "output_type": "stream",
     "text": [
      "       col1  col2\n",
      "one      15    12\n",
      "two      33    54\n",
      "three    10    32\n"
     ]
    }
   ],
   "source": [
    "df = pd.DataFrame([[15, 12],\n",
    "                    [33, 54],\n",
    "                    [10, 32]], \n",
    "                    index = ['one','two','three'],\n",
    "                    columns = ['col1', 'col2'])\n",
    "print(df)"
   ]
  },
  {
   "cell_type": "code",
   "execution_count": 33,
   "id": "f05695ff-f331-43d4-a217-85eee5b2c4e9",
   "metadata": {},
   "outputs": [
    {
     "name": "stdout",
     "output_type": "stream",
     "text": [
      "       col1  col2\n",
      "one      15    12\n",
      "three    10    32\n"
     ]
    }
   ],
   "source": [
    "print(df.filter(regex = 'e$', axis = 0))      # row name ending with 'e'"
   ]
  },
  {
   "cell_type": "code",
   "execution_count": 34,
   "id": "8f7aebfa-7d24-4ee3-ba4c-5868e1f4d6fa",
   "metadata": {},
   "outputs": [
    {
     "name": "stdout",
     "output_type": "stream",
     "text": [
      "       col1  col2\n",
      "one      15    12\n",
      "two      33    54\n",
      "three    10    32\n"
     ]
    }
   ],
   "source": [
    "print(df.filter(regex = '^c', axis = 1))      # column name starting with 'c'"
   ]
  },
  {
   "cell_type": "markdown",
   "id": "08f45474-b54e-4474-802a-553faae260c5",
   "metadata": {},
   "source": [
    "## 4. Boolean Indexing"
   ]
  },
  {
   "cell_type": "markdown",
   "id": "f73ad5ee-74fd-41e9-bcbe-f4411433f113",
   "metadata": {},
   "source": [
    "**We can also derive condition based selection which returns the True elements and NaN for False elements i.e. where condition became results into False.**"
   ]
  },
  {
   "cell_type": "code",
   "execution_count": 35,
   "id": "ee240d67-29b5-471a-99be-1dd37d8be4a3",
   "metadata": {},
   "outputs": [
    {
     "name": "stdout",
     "output_type": "stream",
     "text": [
      "    0   1\n",
      "0  15  12\n",
      "1  33  54\n",
      "2  10  32\n"
     ]
    }
   ],
   "source": [
    "df = pd.DataFrame([[15, 12],\n",
    "                    [33, 54],\n",
    "                    [10, 32]])\n",
    "print(df)"
   ]
  },
  {
   "cell_type": "code",
   "execution_count": 36,
   "id": "39f4d2e0-ff9e-4a69-8b4b-65ebf4148b94",
   "metadata": {},
   "outputs": [
    {
     "name": "stdout",
     "output_type": "stream",
     "text": [
      "      0     1\n",
      "0  15.0   NaN\n",
      "1  33.0  54.0\n",
      "2   NaN  32.0\n"
     ]
    }
   ],
   "source": [
    "print(df[df >= 15])"
   ]
  }
 ],
 "metadata": {
  "kernelspec": {
   "display_name": "Python [conda env:base] *",
   "language": "python",
   "name": "conda-base-py"
  },
  "language_info": {
   "codemirror_mode": {
    "name": "ipython",
    "version": 3
   },
   "file_extension": ".py",
   "mimetype": "text/x-python",
   "name": "python",
   "nbconvert_exporter": "python",
   "pygments_lexer": "ipython3",
   "version": "3.13.5"
  }
 },
 "nbformat": 4,
 "nbformat_minor": 5
}
