{
 "cells": [
  {
   "cell_type": "markdown",
   "id": "d8afe920-cb4e-4944-8bd7-441c79e75976",
   "metadata": {},
   "source": [
    "## Pivot Tables"
   ]
  },
  {
   "cell_type": "markdown",
   "id": "ddb05f00-5469-40be-bbe5-fb38ffb7b33a",
   "metadata": {},
   "source": [
    "#### Reshaping a dataset is a perfect seed for quick text visualization. However, similar to reshaping we have another term named as pivot tables which are more efficient in delivering a better visualization.\n",
    "\n",
    "#### To understand pivot tables we take the same last dataframe except adding a new feature 'score'."
   ]
  },
  {
   "cell_type": "code",
   "execution_count": 13,
   "id": "fb973b91-fde0-42db-b5aa-c097ab29f220",
   "metadata": {},
   "outputs": [],
   "source": [
    "import pandas as pd"
   ]
  },
  {
   "cell_type": "code",
   "execution_count": 14,
   "id": "43d181db-a88b-4c3f-b44a-4ef74031eda8",
   "metadata": {},
   "outputs": [],
   "source": [
    "df = pd.DataFrame([\n",
    "            ['IND', 'Gold', 'Game1', '9.9'],\n",
    "            ['IND', 'Bronze', 'Game2', '8'],\n",
    "            ['USA', 'Silver', 'Game1', '9.5'],\n",
    "            ['USA', 'Gold', 'Game2', '8.6'],\n",
    "            ], columns = ['Country', 'Medal', \n",
    "                'Game', 'Score'],\n",
    "                index = ['Year1', 'Year2','Year1', 'Year2'])"
   ]
  },
  {
   "cell_type": "code",
   "execution_count": 15,
   "id": "f66dad91-8d80-4e9c-90e7-fb13f33b603a",
   "metadata": {},
   "outputs": [
    {
     "name": "stdout",
     "output_type": "stream",
     "text": [
      "      Country   Medal   Game Score\n",
      "Year1     IND    Gold  Game1   9.9\n",
      "Year2     IND  Bronze  Game2     8\n",
      "Year1     USA  Silver  Game1   9.5\n",
      "Year2     USA    Gold  Game2   8.6\n"
     ]
    }
   ],
   "source": [
    "print(df)"
   ]
  },
  {
   "cell_type": "markdown",
   "id": "4f0cef4f-0162-401c-8054-fc495117fba7",
   "metadata": {},
   "source": [
    "#### Pivot tables come handy when we have to break down a large dataset (in terms of features) into fewer features for quick visualization. For example, finding which medal is common to both IND and USA, listing game(s) in which India won Silver, etc.\n",
    "\n",
    "#### We implement pivot table on the given dataset:"
   ]
  },
  {
   "cell_type": "code",
   "execution_count": 16,
   "id": "0545ad22-dea3-4fb5-a823-85f8d29484bd",
   "metadata": {},
   "outputs": [
    {
     "name": "stdout",
     "output_type": "stream",
     "text": [
      "          Game                Score            \n",
      "Medal   Bronze   Gold Silver Bronze Gold Silver\n",
      "Country                                        \n",
      "IND      Game2  Game1    NaN      8  9.9    NaN\n",
      "USA        NaN  Game2  Game1    NaN  8.6    9.5\n"
     ]
    }
   ],
   "source": [
    "# Listing all the features\n",
    "print(df.pivot(index = 'Country', columns = 'Medal'))"
   ]
  },
  {
   "cell_type": "code",
   "execution_count": 17,
   "id": "91178b6c-4a06-421e-b4d8-0c0dc991b4c4",
   "metadata": {},
   "outputs": [
    {
     "name": "stdout",
     "output_type": "stream",
     "text": [
      "Medal   Bronze Gold Silver\n",
      "Country                   \n",
      "IND          8  9.9    NaN\n",
      "USA        NaN  8.6    9.5\n"
     ]
    }
   ],
   "source": [
    "# Listing only Score feature\n",
    "print(df.pivot(index = 'Country', columns = 'Medal',\n",
    "               values = 'Score')) "
   ]
  },
  {
   "cell_type": "markdown",
   "id": "5b0b5547-c6bd-4ad4-a159-20a6a329a0e1",
   "metadata": {},
   "source": [
    "#### The previous dataset doesn't include any redundant sample, for instance, let's say 2 people win gold as well as silver medals in Year1 of Game1 from India. \n",
    "\n",
    "#### In that case, the above function named pivot() breaks due to ambiguity in Game column. Therefore, to overcome this limitation, we have another function named as pivot_table() which requires an argument named as aggfun through which we can clear the ambiguity. Let's understand it through an example."
   ]
  },
  {
   "cell_type": "code",
   "execution_count": 18,
   "id": "b2ae8dfd-93f6-407f-8e33-d6f1560dbeee",
   "metadata": {},
   "outputs": [],
   "source": [
    "import numpy as np"
   ]
  },
  {
   "cell_type": "code",
   "execution_count": 19,
   "id": "cafc3edc-44f9-4775-90b8-b8533d7550fa",
   "metadata": {},
   "outputs": [],
   "source": [
    "df = pd.DataFrame([\n",
    "            ['IND', 'Gold', 'Game1', '9.9'],\n",
    "            ['IND', 'Silver', 'Game1', '9.5'],\n",
    "            ['IND', 'Bronze', 'Game2', '8'],\n",
    "            ['USA', 'Bronze', 'Game1', '9.0'],\n",
    "            ['USA', 'Silver', 'Game2', '8.6'],\n",
    "            ], columns = ['Country', 'Medal', \n",
    "                'Game', 'Score'],\n",
    "                index = ['Year1', 'Year1', 'Year2','Year1', 'Year2'])"
   ]
  },
  {
   "cell_type": "code",
   "execution_count": 20,
   "id": "d2a8b3eb-ba6a-4106-8f32-349bc92d5d08",
   "metadata": {},
   "outputs": [
    {
     "name": "stdout",
     "output_type": "stream",
     "text": [
      "      Country   Medal   Game Score\n",
      "Year1     IND    Gold  Game1   9.9\n",
      "Year1     IND  Silver  Game1   9.5\n",
      "Year2     IND  Bronze  Game2     8\n",
      "Year1     USA  Bronze  Game1   9.0\n",
      "Year2     USA  Silver  Game2   8.6\n"
     ]
    }
   ],
   "source": [
    "print(df)"
   ]
  },
  {
   "cell_type": "code",
   "execution_count": 21,
   "id": "c8a8e4f8-b809-4b37-9417-515f0771fd54",
   "metadata": {},
   "outputs": [
    {
     "name": "stdout",
     "output_type": "stream",
     "text": [
      "Game    Game1 Game2\n",
      "Country            \n",
      "IND       9.9     8\n",
      "USA       9.0   8.6\n"
     ]
    },
    {
     "name": "stderr",
     "output_type": "stream",
     "text": [
      "C:\\Users\\mohol\\AppData\\Local\\Temp\\ipykernel_13600\\2516285796.py:1: FutureWarning: The provided callable <function max at 0x0000018FBA043240> is currently using DataFrameGroupBy.max. In a future version of pandas, the provided callable will be used directly. To keep current behavior pass the string \"max\" instead.\n",
      "  print(df.pivot_table(index = 'Country',\n"
     ]
    }
   ],
   "source": [
    "print(df.pivot_table(index = 'Country', \n",
    "                     columns = 'Game',\n",
    "                     values = 'Score',\n",
    "                     aggfunc = np.max))"
   ]
  }
 ],
 "metadata": {
  "kernelspec": {
   "display_name": "Python [conda env:base] *",
   "language": "python",
   "name": "conda-base-py"
  },
  "language_info": {
   "codemirror_mode": {
    "name": "ipython",
    "version": 3
   },
   "file_extension": ".py",
   "mimetype": "text/x-python",
   "name": "python",
   "nbconvert_exporter": "python",
   "pygments_lexer": "ipython3",
   "version": "3.13.5"
  }
 },
 "nbformat": 4,
 "nbformat_minor": 5
}
