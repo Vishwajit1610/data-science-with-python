{
 "cells": [
  {
   "cell_type": "markdown",
   "id": "c6f7625b-5f3e-41cc-bc82-eeb91d6cf051",
   "metadata": {},
   "source": [
    "## Reshaping"
   ]
  },
  {
   "cell_type": "markdown",
   "id": "1bca3115-2b6a-41e5-87d2-9e1919f5be22",
   "metadata": {},
   "source": [
    "### Let us consider that we have been given a dataset which defines the percentage of improvement achieved by India and USA in 2 Olympic games say, Game1 and Game2 for two consecutive Olympic games held in Year1 and Year2. The dataset can be visualized after executing below code:"
   ]
  },
  {
   "cell_type": "code",
   "execution_count": 8,
   "id": "5783decb-f181-4c64-90eb-2b8badff6cc7",
   "metadata": {},
   "outputs": [],
   "source": [
    "import numpy as np\n",
    "import pandas as pd"
   ]
  },
  {
   "cell_type": "code",
   "execution_count": 9,
   "id": "b9f1a06f-0e83-45d1-92aa-7efbdace02bf",
   "metadata": {},
   "outputs": [],
   "source": [
    "multi_ind = pd.MultiIndex.from_tuples(\n",
    "                                      [('IND','Game1'),\n",
    "                                       ('IND','Game2'),\n",
    "                                       ('US','Game1'),\n",
    "                                       ('US','Game2')],\n",
    "                                       names = [\n",
    "                                                'Country',\n",
    "                                                'Game'])"
   ]
  },
  {
   "cell_type": "code",
   "execution_count": 10,
   "id": "053b4b1d-2d11-4fa2-852e-4cecb25ea49a",
   "metadata": {},
   "outputs": [],
   "source": [
    "df = pd.DataFrame(np.random.randn(4,2),     # some random values\n",
    "                  index = multi_ind,\n",
    "                  columns = ['Year1', 'Year2'])"
   ]
  },
  {
   "cell_type": "code",
   "execution_count": 11,
   "id": "a4385309-ef4f-4b23-b740-409e867d01e2",
   "metadata": {},
   "outputs": [
    {
     "name": "stdout",
     "output_type": "stream",
     "text": [
      "                  Year1     Year2\n",
      "Country Game                     \n",
      "IND     Game1  0.272356 -0.685837\n",
      "        Game2 -0.372628  1.005553\n",
      "US      Game1  1.172316  0.606384\n",
      "        Game2  0.585434  2.583940\n"
     ]
    }
   ],
   "source": [
    "print(df)"
   ]
  },
  {
   "cell_type": "markdown",
   "id": "005b3b73-3d50-436b-9d1f-c634ca9b7be5",
   "metadata": {},
   "source": [
    "#### It can be seen clearly that we have received multiple index (Game1 and Game2) for a single index (IND/USA). What if we want a less complex visualization of this particular dataset? Is it possible?\n",
    "\n",
    "#### Well, to resolve this complexity, pandas provide 2 suitable functions something called as stack() and unstack(). By using these functions we can retain all the information but with more clarity."
   ]
  },
  {
   "cell_type": "code",
   "execution_count": 12,
   "id": "d03015da-b901-47f8-b8e6-864982e32e61",
   "metadata": {},
   "outputs": [
    {
     "name": "stdout",
     "output_type": "stream",
     "text": [
      "Country  Game        \n",
      "IND      Game1  Year1    0.272356\n",
      "                Year2   -0.685837\n",
      "         Game2  Year1   -0.372628\n",
      "                Year2    1.005553\n",
      "US       Game1  Year1    1.172316\n",
      "                Year2    0.606384\n",
      "         Game2  Year1    0.585434\n",
      "                Year2    2.583940\n",
      "dtype: float64\n"
     ]
    }
   ],
   "source": [
    "# Increase in Length\n",
    "print(df.stack())"
   ]
  },
  {
   "cell_type": "code",
   "execution_count": 13,
   "id": "d4ce4f2e-08e3-4e8c-87f6-9ac2cc248bb1",
   "metadata": {},
   "outputs": [
    {
     "name": "stdout",
     "output_type": "stream",
     "text": [
      "            Year1               Year2          \n",
      "Game        Game1     Game2     Game1     Game2\n",
      "Country                                        \n",
      "IND      0.272356 -0.372628 -0.685837  1.005553\n",
      "US       1.172316  0.585434  0.606384  2.583940\n"
     ]
    }
   ],
   "source": [
    "# Increase in Width\n",
    "print(df.unstack())"
   ]
  }
 ],
 "metadata": {
  "kernelspec": {
   "display_name": "Python [conda env:base] *",
   "language": "python",
   "name": "conda-base-py"
  },
  "language_info": {
   "codemirror_mode": {
    "name": "ipython",
    "version": 3
   },
   "file_extension": ".py",
   "mimetype": "text/x-python",
   "name": "python",
   "nbconvert_exporter": "python",
   "pygments_lexer": "ipython3",
   "version": "3.13.5"
  }
 },
 "nbformat": 4,
 "nbformat_minor": 5
}
