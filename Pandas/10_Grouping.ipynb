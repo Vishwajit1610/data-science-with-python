{
 "cells": [
  {
   "cell_type": "markdown",
   "id": "2cc2a35b-1cbe-4c7e-a155-18e1dbf0177c",
   "metadata": {},
   "source": [
    "## Grouping"
   ]
  },
  {
   "cell_type": "markdown",
   "id": "db59f8ca-6da5-4733-bed4-7850d8ffd847",
   "metadata": {},
   "source": [
    "#### To understand grouping, a concept similar to databases, let us consider that we have been given a dataset for the sales of laptop and desktop systems. \n",
    "\n",
    "#### The observations for a particular type can be repeated for the different sales price. In this case, if we need to calculate the total sales of each category then we can group similar data and apply a certain function.\n",
    "\n",
    "#### To do so we create a sample dummy dataset and sum up the total sales particular to each category."
   ]
  },
  {
   "cell_type": "code",
   "execution_count": 5,
   "id": "78045cef-baea-4746-a2b4-2d1b5189fb35",
   "metadata": {},
   "outputs": [],
   "source": [
    "import pandas as pd"
   ]
  },
  {
   "cell_type": "code",
   "execution_count": 6,
   "id": "b50f0471-6091-4eb8-9715-b45738da8878",
   "metadata": {},
   "outputs": [],
   "source": [
    "df = pd.DataFrame([[\"Laptop\", 1000],\n",
    "                   [\"Laptop\", 2520],\n",
    "                   [\"Desktop\", 3000],\n",
    "                   [\"Desktop\", 400]], columns = ['Category','Sales'])"
   ]
  },
  {
   "cell_type": "code",
   "execution_count": 7,
   "id": "80be8ae9-d06a-4c0d-9d19-89c5f5cdef0a",
   "metadata": {},
   "outputs": [
    {
     "name": "stdout",
     "output_type": "stream",
     "text": [
      "  Category  Sales\n",
      "0   Laptop   1000\n",
      "1   Laptop   2520\n",
      "2  Desktop   3000\n",
      "3  Desktop    400\n"
     ]
    }
   ],
   "source": [
    "print(df)"
   ]
  },
  {
   "cell_type": "code",
   "execution_count": 8,
   "id": "fdc04e3f-73cb-4ffa-aa5a-e9712ccf745f",
   "metadata": {},
   "outputs": [
    {
     "name": "stdout",
     "output_type": "stream",
     "text": [
      "          Sales\n",
      "Category       \n",
      "Laptop     3520\n",
      "Desktop    3400\n"
     ]
    }
   ],
   "source": [
    "print(df.groupby(['Category'], sort = False).sum())"
   ]
  }
 ],
 "metadata": {
  "kernelspec": {
   "display_name": "Python [conda env:base] *",
   "language": "python",
   "name": "conda-base-py"
  },
  "language_info": {
   "codemirror_mode": {
    "name": "ipython",
    "version": 3
   },
   "file_extension": ".py",
   "mimetype": "text/x-python",
   "name": "python",
   "nbconvert_exporter": "python",
   "pygments_lexer": "ipython3",
   "version": "3.13.5"
  }
 },
 "nbformat": 4,
 "nbformat_minor": 5
}
