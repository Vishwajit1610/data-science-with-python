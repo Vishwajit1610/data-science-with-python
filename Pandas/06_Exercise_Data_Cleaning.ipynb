{
 "cells": [
  {
   "cell_type": "code",
   "execution_count": 187,
   "id": "29477cb0-a441-415f-a372-7ee7899b6e11",
   "metadata": {},
   "outputs": [],
   "source": [
    "import numpy as np\n",
    "import pandas as pd"
   ]
  },
  {
   "cell_type": "markdown",
   "id": "cacd0b31-7044-4b64-b804-23f49ed29034",
   "metadata": {},
   "source": [
    "# Consider Pittsburgh bridge dataset which consists of 108 instances and 13 attributes. Perform the listed tasks:"
   ]
  },
  {
   "cell_type": "markdown",
   "id": "b05d081c-b959-4f6f-bb3c-2d081e2b2001",
   "metadata": {},
   "source": [
    "### Q.1 Copy and save dataset to your local drive with name bridge.xlsx."
   ]
  },
  {
   "cell_type": "markdown",
   "id": "7a5b228b-0ea1-4f16-9e6c-e3c045a35301",
   "metadata": {},
   "source": [
    "### Q.2 Provide header to the dataframe with given values -\n",
    "```\n",
    "['IDENTIF','RIVER', 'LOCATION', 'ERECTED', 'PURPOSE', 'LENGTH', 'LANES', \n",
    "  'CLEAR-G', 'T-OR-D', 'MATERIAL', 'SPAN', 'REL-L', 'TYPE']\n",
    "```"
   ]
  },
  {
   "cell_type": "markdown",
   "id": "e7c8b587-39bc-4bf0-aa79-4eddf275e071",
   "metadata": {},
   "source": [
    "**Solving Q.1 and Q.2 in one go.**"
   ]
  },
  {
   "cell_type": "code",
   "execution_count": 188,
   "id": "a36ed448-c0d6-4a5e-84ec-efa68a012c82",
   "metadata": {},
   "outputs": [],
   "source": [
    "# Load the raw data.\n",
    "df = pd.read_csv(\"Pittsburgh bridge dataset.csv\", header=None)"
   ]
  },
  {
   "cell_type": "code",
   "execution_count": 189,
   "id": "f83f2ae2-27ec-4db3-925e-3c780db19e76",
   "metadata": {},
   "outputs": [],
   "source": [
    "df.to_excel(\"bridge.xlsx\", index=False)"
   ]
  },
  {
   "cell_type": "code",
   "execution_count": 190,
   "id": "9027bc9f-2624-4215-ba84-b14247ebb471",
   "metadata": {},
   "outputs": [],
   "source": [
    "# Assign the correct headers immediately after loading.\n",
    "headers = [\n",
    "    'IDENTIF', 'RIVER', 'LOCATION', 'ERECTED', 'PURPOSE', 'LENGTH', 'LANES',\n",
    "    'CLEAR-G', 'T-OR-D', 'MATERIAL', 'SPAN', 'REL-L', 'TYPE'\n",
    "]\n",
    "df.columns = headers"
   ]
  },
  {
   "cell_type": "code",
   "execution_count": 191,
   "id": "459a359a-ee89-4e3c-985a-2c722a76ecc1",
   "metadata": {},
   "outputs": [
    {
     "name": "stdout",
     "output_type": "stream",
     "text": [
      "  IDENTIF RIVER LOCATION ERECTED   PURPOSE  LENGTH LANES CLEAR-G   T-OR-D  \\\n",
      "0      E1     M        3  CRAFTS   HIGHWAY       ?     2       N  THROUGH   \n",
      "1      E2     A       25  CRAFTS   HIGHWAY  MEDIUM     2       N  THROUGH   \n",
      "2      E3     A       39  CRAFTS  AQUEDUCT       ?     1       N  THROUGH   \n",
      "3      E5     A       29  CRAFTS   HIGHWAY  MEDIUM     2       N  THROUGH   \n",
      "4      E6     M       23  CRAFTS   HIGHWAY       ?     2       N  THROUGH   \n",
      "\n",
      "  MATERIAL   SPAN REL-L  TYPE  \n",
      "0     WOOD  SHORT     S  WOOD  \n",
      "1     WOOD  SHORT     S  WOOD  \n",
      "2     WOOD      ?     S  WOOD  \n",
      "3     WOOD  SHORT     S  WOOD  \n",
      "4     WOOD      ?     S  WOOD  \n",
      "(108, 13)\n"
     ]
    }
   ],
   "source": [
    "# Display the initial state of the DataFrame\n",
    "print(df.head())\n",
    "print(df.shape)"
   ]
  },
  {
   "cell_type": "markdown",
   "id": "bac6b95a-b28e-4415-9b08-448efece5fbc",
   "metadata": {},
   "source": [
    "### Q.3 List names of the column(s) along with the count of missing number of values. Here, missing values are coded with '?'."
   ]
  },
  {
   "cell_type": "code",
   "execution_count": 192,
   "id": "30640294-9a6d-470c-bcd0-65089eeb2821",
   "metadata": {},
   "outputs": [
    {
     "name": "stdout",
     "output_type": "stream",
     "text": [
      "IDENTIF      0\n",
      "RIVER        0\n",
      "LOCATION     1\n",
      "ERECTED      0\n",
      "PURPOSE      0\n",
      "LENGTH      27\n",
      "LANES       16\n",
      "CLEAR-G      2\n",
      "T-OR-D       6\n",
      "MATERIAL     2\n",
      "SPAN        16\n",
      "REL-L        5\n",
      "TYPE         2\n",
      "dtype: int64\n"
     ]
    }
   ],
   "source": [
    "# Replace all instances of '?' with NumPy's Not a Number (NaN)\n",
    "df.replace('?', np.nan, inplace=True)\n",
    "\n",
    "# Count the missing values.\n",
    "missing_count = df.isna().sum()\n",
    "print(missing_count)"
   ]
  },
  {
   "cell_type": "markdown",
   "id": "e2ea50b7-ccf6-4721-8815-16067175d01f",
   "metadata": {},
   "source": [
    "### Q.4 Find the column(s) names ending with either of the following 'N', 'H', 'S'. If the number of recorded data in these columns are less than 100, drop them."
   ]
  },
  {
   "cell_type": "code",
   "execution_count": 193,
   "id": "bc0d3221-caaf-4727-9684-2dac88c15ab3",
   "metadata": {},
   "outputs": [
    {
     "name": "stdout",
     "output_type": "stream",
     "text": [
      "['LOCATION', 'LENGTH', 'LANES', 'SPAN']\n"
     ]
    }
   ],
   "source": [
    "# Identify columns ending with 'N', 'H', or 'S'\n",
    "cols_to_check = df.filter(regex='[NHS]$').columns\n",
    "print(list(cols_to_check))"
   ]
  },
  {
   "cell_type": "code",
   "execution_count": 194,
   "id": "dfd74418-e71a-4a97-9510-fe1b53296df3",
   "metadata": {},
   "outputs": [
    {
     "name": "stdout",
     "output_type": "stream",
     "text": [
      "Checking column 'LOCATION': 107 non-null values.\n",
      "Checking column 'LENGTH': 81 non-null values.\n",
      "Checking column 'LANES': 92 non-null values.\n",
      "Checking column 'SPAN': 92 non-null values.\n"
     ]
    }
   ],
   "source": [
    "cols_to_drop = []\n",
    "for col in cols_to_check:\n",
    "    # Count non-null values\n",
    "    non_null_count = df[col].notna().sum()\n",
    "    print(f\"Checking column '{col}': {non_null_count} non-null values.\")\n",
    "    if non_null_count < 100:\n",
    "        cols_to_drop.append(col)"
   ]
  },
  {
   "cell_type": "code",
   "execution_count": 195,
   "id": "b1078219-dd03-404c-b846-d72b20593b4b",
   "metadata": {},
   "outputs": [
    {
     "name": "stdout",
     "output_type": "stream",
     "text": [
      "\n",
      "Dropped columns: ['LENGTH', 'LANES', 'SPAN']\n"
     ]
    }
   ],
   "source": [
    "# Drop the identified columns\n",
    "if cols_to_drop:\n",
    "    df.drop(columns=cols_to_drop, inplace=True)\n",
    "    print(f\"\\nDropped columns: {cols_to_drop}\")\n",
    "else:\n",
    "    print(\"\\nNo columns met the drop criteria.\")"
   ]
  },
  {
   "cell_type": "code",
   "execution_count": 196,
   "id": "a18f38de-4be4-496c-aa4a-b681af83042f",
   "metadata": {},
   "outputs": [
    {
     "name": "stdout",
     "output_type": "stream",
     "text": [
      "Index(['IDENTIF', 'RIVER', 'LOCATION', 'ERECTED', 'PURPOSE', 'CLEAR-G',\n",
      "       'T-OR-D', 'MATERIAL', 'REL-L', 'TYPE'],\n",
      "      dtype='object')\n"
     ]
    }
   ],
   "source": [
    "print(df.columns)"
   ]
  },
  {
   "cell_type": "markdown",
   "id": "acdf9bd3-1150-4545-9fea-9065a962963c",
   "metadata": {},
   "source": [
    "### Q.5 Drop all the row(s) which have more than or equal to 2 missing values. What is the shape of the final DataFrame?"
   ]
  },
  {
   "cell_type": "code",
   "execution_count": 197,
   "id": "b8b40c4e-f629-42f9-8316-e85a99a5c930",
   "metadata": {},
   "outputs": [
    {
     "name": "stdout",
     "output_type": "stream",
     "text": [
      "(108, 10)\n"
     ]
    }
   ],
   "source": [
    "print(df.shape)"
   ]
  },
  {
   "cell_type": "code",
   "execution_count": 198,
   "id": "b6f05120-64e9-4d08-8fb4-c5f644d0ee99",
   "metadata": {},
   "outputs": [],
   "source": [
    "threshold = len(df.columns) - 1\n",
    "df.dropna(thresh=threshold, inplace=True)"
   ]
  },
  {
   "cell_type": "code",
   "execution_count": 199,
   "id": "2d890325-b2b5-4a41-95dc-bd5ce513b74e",
   "metadata": {},
   "outputs": [
    {
     "name": "stdout",
     "output_type": "stream",
     "text": [
      "(102, 10)\n"
     ]
    }
   ],
   "source": [
    "print(df.shape)"
   ]
  },
  {
   "cell_type": "markdown",
   "id": "b83a7aa3-ed00-4a16-a140-0f3dc755b8ea",
   "metadata": {},
   "source": [
    "### Q.6 Fill all the remaining missing values with the mode of each column values."
   ]
  },
  {
   "cell_type": "code",
   "execution_count": 200,
   "id": "cab4d9e6-c432-467c-9fbb-ac6e6623d59d",
   "metadata": {},
   "outputs": [],
   "source": [
    "# Calculate the mode for each column and take the first one.\n",
    "modes = df.mode().iloc[0]"
   ]
  },
  {
   "cell_type": "code",
   "execution_count": 201,
   "id": "a95c4e23-5f5c-405d-a52b-73a7d220ef5e",
   "metadata": {},
   "outputs": [],
   "source": [
    "# Fill NaN values with the calculated modes.\n",
    "df.fillna(modes, inplace=True)"
   ]
  },
  {
   "cell_type": "code",
   "execution_count": 202,
   "id": "42c2de46-6e83-4e6c-a02f-b2f4483e0b90",
   "metadata": {},
   "outputs": [
    {
     "name": "stdout",
     "output_type": "stream",
     "text": [
      "  IDENTIF RIVER LOCATION ERECTED   PURPOSE CLEAR-G   T-OR-D MATERIAL REL-L  \\\n",
      "0      E1     M        3  CRAFTS   HIGHWAY       N  THROUGH     WOOD     S   \n",
      "1      E2     A       25  CRAFTS   HIGHWAY       N  THROUGH     WOOD     S   \n",
      "2      E3     A       39  CRAFTS  AQUEDUCT       N  THROUGH     WOOD     S   \n",
      "3      E5     A       29  CRAFTS   HIGHWAY       N  THROUGH     WOOD     S   \n",
      "4      E6     M       23  CRAFTS   HIGHWAY       N  THROUGH     WOOD     S   \n",
      "\n",
      "   TYPE  \n",
      "0  WOOD  \n",
      "1  WOOD  \n",
      "2  WOOD  \n",
      "3  WOOD  \n",
      "4  WOOD  \n"
     ]
    }
   ],
   "source": [
    "print(df.head())"
   ]
  }
 ],
 "metadata": {
  "kernelspec": {
   "display_name": "Python [conda env:base] *",
   "language": "python",
   "name": "conda-base-py"
  },
  "language_info": {
   "codemirror_mode": {
    "name": "ipython",
    "version": 3
   },
   "file_extension": ".py",
   "mimetype": "text/x-python",
   "name": "python",
   "nbconvert_exporter": "python",
   "pygments_lexer": "ipython3",
   "version": "3.13.5"
  }
 },
 "nbformat": 4,
 "nbformat_minor": 5
}
