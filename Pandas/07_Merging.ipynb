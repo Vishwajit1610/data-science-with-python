{
 "cells": [
  {
   "cell_type": "markdown",
   "id": "7e9072e6-1bb6-4143-b018-ead68c0317f1",
   "metadata": {},
   "source": [
    "# Merging"
   ]
  },
  {
   "cell_type": "markdown",
   "id": "1a644e7b-40e9-4eff-b4e6-6c59fe9eedae",
   "metadata": {},
   "source": [
    "### There are few more commonly used methods involved in Pandas as listed:\n",
    "\n",
    "- Merging\n",
    "\n",
    "- Reshaping\n",
    "\n",
    "- Pivot Tables\n",
    "\n",
    "- Grouping"
   ]
  },
  {
   "cell_type": "markdown",
   "id": "98d21f0a-8190-4347-9511-a65a7124f737",
   "metadata": {},
   "source": [
    "**Given two datasets from a conducted experiment with each dataset having its own feature.  \n",
    "Our task is to form a single dataset combining all the features particular to each observation. To do so we can take help of concat() function.**"
   ]
  },
  {
   "cell_type": "code",
   "execution_count": 7,
   "id": "fba314cd-94c7-469c-90c0-8ebe831104e0",
   "metadata": {},
   "outputs": [],
   "source": [
    "import numpy as np\n",
    "import pandas as pd"
   ]
  },
  {
   "cell_type": "code",
   "execution_count": 8,
   "id": "460380f4-1e3f-442d-964d-eacc5536998a",
   "metadata": {},
   "outputs": [],
   "source": [
    "data1 = pd.DataFrame([[15, 12, -3],\n",
    "                    [33, 54, 21],\n",
    "                    [10, 32, 22]],\n",
    "                    columns = list('ABC'))"
   ]
  },
  {
   "cell_type": "code",
   "execution_count": 9,
   "id": "5dc6b7e5-a729-49a6-b10e-8114fbe19afb",
   "metadata": {},
   "outputs": [],
   "source": [
    "data2 = pd.DataFrame([[10, 1, 3],\n",
    "                    [33, -54, 2],\n",
    "                    [10, 0.32, 2]],\n",
    "                    columns = list('DEF'))"
   ]
  },
  {
   "cell_type": "code",
   "execution_count": 10,
   "id": "8a8e9c27-1410-445e-83d1-014555384bb7",
   "metadata": {},
   "outputs": [
    {
     "name": "stdout",
     "output_type": "stream",
     "text": [
      "    A   B   C\n",
      "0  15  12  -3\n",
      "1  33  54  21\n",
      "2  10  32  22\n"
     ]
    }
   ],
   "source": [
    "print(data1)"
   ]
  },
  {
   "cell_type": "code",
   "execution_count": 11,
   "id": "866e6415-a9ff-4f01-8293-79e253dfaa99",
   "metadata": {},
   "outputs": [
    {
     "name": "stdout",
     "output_type": "stream",
     "text": [
      "    D      E  F\n",
      "0  10   1.00  3\n",
      "1  33 -54.00  2\n",
      "2  10   0.32  2\n"
     ]
    }
   ],
   "source": [
    "print(data2)"
   ]
  },
  {
   "cell_type": "markdown",
   "id": "07bd31c3-310b-4d67-88d6-e020f8b83465",
   "metadata": {},
   "source": [
    "**Now we use the concat() method to merge the two data sets.**"
   ]
  },
  {
   "cell_type": "code",
   "execution_count": 12,
   "id": "c966f730-268f-4f2b-9e03-2a7ea214d7ab",
   "metadata": {},
   "outputs": [
    {
     "name": "stdout",
     "output_type": "stream",
     "text": [
      "    A   B   C   D      E  F\n",
      "0  15  12  -3  10   1.00  3\n",
      "1  33  54  21  33 -54.00  2\n",
      "2  10  32  22  10   0.32  2\n"
     ]
    }
   ],
   "source": [
    "print(pd.concat( [data1,data2], axis = 1 ))"
   ]
  },
  {
   "cell_type": "markdown",
   "id": "83e37f2a-c31c-4ad2-a5d1-9075819a6446",
   "metadata": {},
   "source": [
    "#### Suppose an individual took observation of 3 different features in two instances. Next, she wants to combine all these samples to form a single dataset. We can achieve this task using the same concat() function, but this time with the change of axis."
   ]
  },
  {
   "cell_type": "code",
   "execution_count": 13,
   "id": "93f72b24-ae26-42f2-9cb1-6357b6fe15d0",
   "metadata": {},
   "outputs": [],
   "source": [
    "data1 = pd.DataFrame(np.random.randn(9).reshape(3,3),\n",
    "                   columns = list('ABC'))\n",
    "data2 = pd.DataFrame(np.arange(9).reshape(3,3),\n",
    "                   columns = list('ABC'))"
   ]
  },
  {
   "cell_type": "code",
   "execution_count": 17,
   "id": "7e1184c8-51c3-4bfd-b075-da96bc1b79a9",
   "metadata": {},
   "outputs": [
    {
     "name": "stdout",
     "output_type": "stream",
     "text": [
      "          A         B         C\n",
      "0 -1.089263 -0.411981  0.468483\n",
      "1 -0.723059  0.405680  0.746161\n",
      "2  0.156932  0.573592 -0.275530\n"
     ]
    }
   ],
   "source": [
    "print(data1)"
   ]
  },
  {
   "cell_type": "code",
   "execution_count": 18,
   "id": "24fdbca3-1707-4aed-b53c-ebdf91cc15bd",
   "metadata": {},
   "outputs": [
    {
     "name": "stdout",
     "output_type": "stream",
     "text": [
      "   A  B  C\n",
      "0  0  1  2\n",
      "1  3  4  5\n",
      "2  6  7  8\n"
     ]
    }
   ],
   "source": [
    "print(data2)"
   ]
  },
  {
   "cell_type": "code",
   "execution_count": 19,
   "id": "4b558c64-23a7-4ed3-9b0d-778982d91555",
   "metadata": {},
   "outputs": [
    {
     "name": "stdout",
     "output_type": "stream",
     "text": [
      "          A         B         C\n",
      "0 -1.089263 -0.411981  0.468483\n",
      "1 -0.723059  0.405680  0.746161\n",
      "2  0.156932  0.573592 -0.275530\n",
      "0  0.000000  1.000000  2.000000\n",
      "1  3.000000  4.000000  5.000000\n",
      "2  6.000000  7.000000  8.000000\n"
     ]
    }
   ],
   "source": [
    "print(pd.concat( [data1,data2], axis = 0 ))"
   ]
  }
 ],
 "metadata": {
  "kernelspec": {
   "display_name": "Python [conda env:base] *",
   "language": "python",
   "name": "conda-base-py"
  },
  "language_info": {
   "codemirror_mode": {
    "name": "ipython",
    "version": 3
   },
   "file_extension": ".py",
   "mimetype": "text/x-python",
   "name": "python",
   "nbconvert_exporter": "python",
   "pygments_lexer": "ipython3",
   "version": "3.13.5"
  }
 },
 "nbformat": 4,
 "nbformat_minor": 5
}
