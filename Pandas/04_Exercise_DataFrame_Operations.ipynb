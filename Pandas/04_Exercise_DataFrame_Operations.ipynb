{
 "cells": [
  {
   "cell_type": "markdown",
   "id": "66bc20f6-c042-4524-ab93-30e81d35426e",
   "metadata": {},
   "source": [
    "## Consider a dataframe df given below:\n",
    "```\n",
    "import pandas as pd\n",
    "df = pd.DataFrame([[18,10,5,11,-2],\n",
    "                    [2,-2,9,-11,3],\n",
    "                    [-4,6,-19,2,1],\n",
    "                    [3,-14,1,-2,8],\n",
    "                    [-2,2,4,6,13]],\n",
    "                index = list('pqrst'),\n",
    "                    columns = list('abcde'))\n",
    "```"
   ]
  },
  {
   "cell_type": "code",
   "execution_count": 33,
   "id": "a42153e9-ffd0-416f-b867-a7bed58f3b98",
   "metadata": {},
   "outputs": [
    {
     "name": "stdout",
     "output_type": "stream",
     "text": [
      "    a   b   c   d   e\n",
      "p  18  10   5  11  -2\n",
      "q   2  -2   9 -11   3\n",
      "r  -4   6 -19   2   1\n",
      "s   3 -14   1  -2   8\n",
      "t  -2   2   4   6  13\n"
     ]
    }
   ],
   "source": [
    "import pandas as pd\n",
    "df = pd.DataFrame([[18,10,5,11,-2],\n",
    "                    [2,-2,9,-11,3],\n",
    "                    [-4,6,-19,2,1],\n",
    "                    [3,-14,1,-2,8],\n",
    "                    [-2,2,4,6,13]],\n",
    "                index = list('pqrst'),\n",
    "                    columns = list('abcde'))\n",
    "print(df)"
   ]
  },
  {
   "cell_type": "markdown",
   "id": "e90e1477-2ed8-486b-af9a-f7bf32f7c235",
   "metadata": {},
   "source": [
    "## Complete the following tasks:"
   ]
  },
  {
   "cell_type": "markdown",
   "id": "1ffc966b-7882-4ef4-8cbc-8bdab780aeba",
   "metadata": {},
   "source": [
    "### Q. 1 Extract the rows whose total sum is even. Next, save this dataframe into a new dataframe named new_df . Copy this dataframe to an excel file named file_df.xlsx under Sheet 1."
   ]
  },
  {
   "cell_type": "code",
   "execution_count": 34,
   "id": "17b03aed-6757-4948-b0f2-7edc48e93799",
   "metadata": {},
   "outputs": [
    {
     "name": "stdout",
     "output_type": "stream",
     "text": [
      "    a   b   c   d  e\n",
      "p  18  10   5  11 -2\n",
      "r  -4   6 -19   2  1\n",
      "s   3 -14   1  -2  8\n"
     ]
    }
   ],
   "source": [
    "# We first Filter rows with even sums and create new_df\n",
    "# We use .copy() to ensure new_df is an independent object\n",
    "new_df = df[df.sum(axis=1) % 2 == 0].copy()\n",
    "print(new_df)"
   ]
  },
  {
   "cell_type": "code",
   "execution_count": 35,
   "id": "8da5a934-e330-49eb-a251-a521e2b85a6d",
   "metadata": {},
   "outputs": [],
   "source": [
    "# Next we save new_df file to Excel\n",
    "new_df.to_excel('file_df.xlsx', sheet_name = 'Sheet 1')"
   ]
  },
  {
   "cell_type": "markdown",
   "id": "de5737a8-e8f4-4196-970f-c16b0bf445c5",
   "metadata": {},
   "source": [
    "### Q. 2 Copy new_df dataframe into a new dataframe df_temp. Append a new column named as 'm' to the df_temp dataframe which defines the multiplication of each element in one row. Save this dataframe in Sheet 2 of file_df excel file."
   ]
  },
  {
   "cell_type": "code",
   "execution_count": 36,
   "id": "7d8202b5-4dc0-417d-9a11-2310e43cfb8d",
   "metadata": {},
   "outputs": [
    {
     "name": "stdout",
     "output_type": "stream",
     "text": [
      "    a   b   c   d  e\n",
      "p  18  10   5  11 -2\n",
      "r  -4   6 -19   2  1\n",
      "s   3 -14   1  -2  8\n"
     ]
    }
   ],
   "source": [
    "# Copy new_df to df_temp\n",
    "df_temp = new_df.copy()\n",
    "print(df_temp)"
   ]
  },
  {
   "cell_type": "code",
   "execution_count": 37,
   "id": "88fd45dc-d4bf-4260-a536-5f198de7d40d",
   "metadata": {},
   "outputs": [
    {
     "name": "stdout",
     "output_type": "stream",
     "text": [
      "    a   b   c   d  e      m\n",
      "p  18  10   5  11 -2 -19800\n",
      "r  -4   6 -19   2  1    912\n",
      "s   3 -14   1  -2  8    672\n"
     ]
    }
   ],
   "source": [
    "# Append the new column 'm' using eval()\n",
    "# This evaluates the string expression row by row\n",
    "df_temp['m'] = temp_df.eval('a * b * c * d * e')\n",
    "print(df_temp)"
   ]
  },
  {
   "cell_type": "code",
   "execution_count": 38,
   "id": "be880a5b-bd22-4f68-a521-1c265734060e",
   "metadata": {},
   "outputs": [],
   "source": [
    "# Save df_temp to 'Sheet 2' using the manual writer method\n",
    "\n",
    "# Open the writer in append mode\n",
    "writer = pd.ExcelWriter('file_df.xlsx', mode='a')\n",
    "    \n",
    "# Write the dataframe to the new sheet\n",
    "df_temp.to_excel(writer, sheet_name = 'Sheet 2')\n",
    "\n",
    "if 'writer' in locals():\n",
    "        writer.close()"
   ]
  }
 ],
 "metadata": {
  "kernelspec": {
   "display_name": "Python [conda env:base] *",
   "language": "python",
   "name": "conda-base-py"
  },
  "language_info": {
   "codemirror_mode": {
    "name": "ipython",
    "version": 3
   },
   "file_extension": ".py",
   "mimetype": "text/x-python",
   "name": "python",
   "nbconvert_exporter": "python",
   "pygments_lexer": "ipython3",
   "version": "3.13.5"
  }
 },
 "nbformat": 4,
 "nbformat_minor": 5
}
