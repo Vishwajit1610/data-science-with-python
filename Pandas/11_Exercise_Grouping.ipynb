{
 "cells": [
  {
   "cell_type": "markdown",
   "id": "da54d55b-7929-4373-9ef6-4732d220e7b1",
   "metadata": {},
   "source": [
    "# Problem Statement:"
   ]
  },
  {
   "cell_type": "markdown",
   "id": "01643b33-48ed-4e1a-9172-23c87e9b9bd1",
   "metadata": {},
   "source": [
    "### Given a dataframe df which has three attributes defining: set_name: system names, spd_per_day: Speed per day, speed: Network speed in MBps\n",
    "\n",
    "```\n",
    "sys = ['s1','s1','s1','s1',\n",
    "        's2','s2','s2','s2']\n",
    "net_day = ['d1','d1','d2','d2',\n",
    "        'd1','d1','d2','d2']\n",
    "spd = [1.3, 11.4, 5.6, 12.3, \n",
    "        6.2, 1.1, 20.0, 8.8]\n",
    "df = pd.DataFrame({'set_name':sys,\n",
    "                    'spd_per_day':net_day,\n",
    "                    'speed':spd})\n",
    "```\n",
    "\n",
    "### Do the following:\n",
    "\n",
    "#### 1. Construct a dataframe new_df where the given dataset is grouped based on each system (s1 and s2) and speed per day (d1 and d2) with the median speed each day per system. Also, provide a secondary name ' Median' for the speed attribute.\n",
    "\n",
    "#### 2. Sort the dataframe new_df in the ascending order of the median speed."
   ]
  },
  {
   "cell_type": "code",
   "execution_count": 11,
   "id": "ad8755a9-b44e-4fd9-8d31-a781312bd071",
   "metadata": {},
   "outputs": [],
   "source": [
    "import pandas as pd"
   ]
  },
  {
   "cell_type": "code",
   "execution_count": 12,
   "id": "8c2a778e-21dc-4287-9611-e04d825e88a2",
   "metadata": {},
   "outputs": [],
   "source": [
    "sys = ['s1','s1','s1','s1',\n",
    "        's2','s2','s2','s2']\n",
    "net_day = ['d1','d1','d2','d2',\n",
    "        'd1','d1','d2','d2']\n",
    "spd = [1.3, 11.4, 5.6, 12.3, \n",
    "        6.2, 1.1, 20.0, 8.8]\n",
    "df = pd.DataFrame({'set_name':sys,\n",
    "                    'spd_per_day':net_day,\n",
    "                    'speed':spd})"
   ]
  },
  {
   "cell_type": "code",
   "execution_count": 13,
   "id": "fa6d2b5b-c36b-4c94-8382-a23203001564",
   "metadata": {},
   "outputs": [
    {
     "name": "stdout",
     "output_type": "stream",
     "text": [
      "  set_name spd_per_day  speed\n",
      "0       s1          d1    1.3\n",
      "1       s1          d1   11.4\n",
      "2       s1          d2    5.6\n",
      "3       s1          d2   12.3\n",
      "4       s2          d1    6.2\n",
      "5       s2          d1    1.1\n",
      "6       s2          d2   20.0\n",
      "7       s2          d2    8.8\n"
     ]
    }
   ],
   "source": [
    "print(df)"
   ]
  },
  {
   "cell_type": "code",
   "execution_count": 14,
   "id": "de4d602d-3f4b-4b6f-856c-343f375be2dd",
   "metadata": {},
   "outputs": [],
   "source": [
    "new_df = df.groupby(['set_name', 'spd_per_day'])['speed'] \\\n",
    "           .median() \\\n",
    "           .reset_index(name='Median')"
   ]
  },
  {
   "cell_type": "code",
   "execution_count": 15,
   "id": "7a460060-f0f7-4e14-bea3-c213591d923f",
   "metadata": {},
   "outputs": [
    {
     "name": "stdout",
     "output_type": "stream",
     "text": [
      "  set_name spd_per_day  Median\n",
      "0       s1          d1    6.35\n",
      "1       s1          d2    8.95\n",
      "2       s2          d1    3.65\n",
      "3       s2          d2   14.40\n"
     ]
    }
   ],
   "source": [
    "print(new_df)"
   ]
  },
  {
   "cell_type": "code",
   "execution_count": 16,
   "id": "23cf159f-1604-4e7a-a950-85fe291f70fe",
   "metadata": {},
   "outputs": [],
   "source": [
    "new_df_sorted = new_df.sort_values(by='Median')"
   ]
  },
  {
   "cell_type": "code",
   "execution_count": 17,
   "id": "ab2f79d0-9dc2-4741-a4dc-0cbb954cb216",
   "metadata": {},
   "outputs": [
    {
     "name": "stdout",
     "output_type": "stream",
     "text": [
      "  set_name spd_per_day  Median\n",
      "2       s2          d1    3.65\n",
      "0       s1          d1    6.35\n",
      "1       s1          d2    8.95\n",
      "3       s2          d2   14.40\n"
     ]
    }
   ],
   "source": [
    "print(new_df_sorted)"
   ]
  }
 ],
 "metadata": {
  "kernelspec": {
   "display_name": "Python [conda env:base] *",
   "language": "python",
   "name": "conda-base-py"
  },
  "language_info": {
   "codemirror_mode": {
    "name": "ipython",
    "version": 3
   },
   "file_extension": ".py",
   "mimetype": "text/x-python",
   "name": "python",
   "nbconvert_exporter": "python",
   "pygments_lexer": "ipython3",
   "version": "3.13.5"
  }
 },
 "nbformat": 4,
 "nbformat_minor": 5
}
