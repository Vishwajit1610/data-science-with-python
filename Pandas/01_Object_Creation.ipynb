{
 "cells": [
  {
   "cell_type": "markdown",
   "id": "dc2a0c8d-f2e3-47b9-abca-299be61737a3",
   "metadata": {},
   "source": [
    "## Let us understand the heterogeneous entity provided by Pandas named as DataFrame."
   ]
  },
  {
   "cell_type": "markdown",
   "id": "44f4d0b6-0c2b-47f9-9ce7-33c735fd7e5b",
   "metadata": {},
   "source": [
    "#### Dataframe is a heterogeneous object and hence are able to store different datatypes together. It is built upon the numpy module, therefore, most of the numpy concepts remain the same."
   ]
  },
  {
   "cell_type": "code",
   "execution_count": 31,
   "id": "ac0b74d5-28c2-49a5-a422-5552d75f2d61",
   "metadata": {},
   "outputs": [],
   "source": [
    "# Importing Pandas Module\n",
    "import pandas as pd"
   ]
  },
  {
   "cell_type": "markdown",
   "id": "9ed3c7ba-600c-4809-81ea-5939d6fd7057",
   "metadata": {},
   "source": [
    "## The simplest dataframe can be created in various ways as illustrated below:"
   ]
  },
  {
   "cell_type": "markdown",
   "id": "3af1f074-b2aa-467d-8989-fe23356cd327",
   "metadata": {},
   "source": [
    "### 1. Using list of dictionary "
   ]
  },
  {
   "cell_type": "code",
   "execution_count": 32,
   "id": "fdaa3179-5c37-4e19-8a38-93a54c69a519",
   "metadata": {},
   "outputs": [
    {
     "name": "stdout",
     "output_type": "stream",
     "text": [
      "     C1   C2   C3   C4\n",
      "R1  1.0  2.0  NaN  NaN\n",
      "R2  NaN  NaN  3.0  5.0\n"
     ]
    }
   ],
   "source": [
    "lst = [{'C1' : 1, 'C2' : 2}, {'C3' : 3, 'C4' : 4, 'C4' : 5}]\n",
    "print(pd.DataFrame(lst, index = [\"R1\", \"R2\"]))"
   ]
  },
  {
   "cell_type": "markdown",
   "id": "2f72475e-0018-4e65-b96c-e7b94b2ea849",
   "metadata": {},
   "source": [
    "**Observe NaN -> which simply means 'Not a Number'. And is the primary way to represent missing or undefined data within DataFrames and Series.**"
   ]
  },
  {
   "cell_type": "markdown",
   "id": "992811c9-6a58-42b9-9a7d-30511ba64b74",
   "metadata": {},
   "source": [
    "### 2. Using dictionary"
   ]
  },
  {
   "cell_type": "code",
   "execution_count": 33,
   "id": "532126c9-2ef0-47a4-be34-3b70907d5152",
   "metadata": {},
   "outputs": [
    {
     "name": "stdout",
     "output_type": "stream",
     "text": [
      "    C1  C2\n",
      "R1   1   3\n",
      "R2   2   4\n"
     ]
    }
   ],
   "source": [
    "dc = {\"C1\" : [1, 2],\n",
    "      \"C2\" : [3, 4]}\n",
    "print(pd.DataFrame(dc, index = [\"R1\", \"R2\"]))"
   ]
  },
  {
   "cell_type": "markdown",
   "id": "415d24b0-0739-4236-92c5-b4e7ddb5db01",
   "metadata": {},
   "source": [
    "### 3. Using list"
   ]
  },
  {
   "cell_type": "code",
   "execution_count": 34,
   "id": "0be7ee91-ba79-4033-8c80-bcc2ae74a988",
   "metadata": {},
   "outputs": [
    {
     "name": "stdout",
     "output_type": "stream",
     "text": [
      "    a   b\n",
      "p  10  20\n",
      "q  30  40\n"
     ]
    }
   ],
   "source": [
    "lst = [[10, 20], [30, 40]]\n",
    "print(pd.DataFrame(lst, index = list('pq'), columns = list('ab')))"
   ]
  },
  {
   "cell_type": "markdown",
   "id": "88d80567-0a7f-4c2e-8853-442d47d94db3",
   "metadata": {},
   "source": [
    "## We can also have a heterogeneous dataframe in which different columns have different datatypes:"
   ]
  },
  {
   "cell_type": "code",
   "execution_count": 35,
   "id": "28004f9e-5886-42c9-81fd-4975d71d8d4e",
   "metadata": {},
   "outputs": [
    {
     "name": "stdout",
     "output_type": "stream",
     "text": [
      "      A     B  C         D\n",
      "0  10.0  Text  1  3.0+9.0j\n",
      "1  20.0  Text  2  3.0+9.0j\n"
     ]
    }
   ],
   "source": [
    "df = pd.DataFrame({'A' : [10., 20.],\n",
    "                   'B' : 'Text',\n",
    "                   'C' : [1, 2],\n",
    "                   'D' : 3 + 9j })\n",
    "print(df)"
   ]
  },
  {
   "cell_type": "code",
   "execution_count": 36,
   "id": "7013fbb0-0fc1-4567-ae1b-59f712bb9af5",
   "metadata": {},
   "outputs": [
    {
     "name": "stdout",
     "output_type": "stream",
     "text": [
      "A       float64\n",
      "B        object\n",
      "C         int64\n",
      "D    complex128\n",
      "dtype: object\n"
     ]
    }
   ],
   "source": [
    "print(df.dtypes)"
   ]
  },
  {
   "cell_type": "markdown",
   "id": "2dfdbb3a-c286-4c35-9f25-f9c8fde5880f",
   "metadata": {},
   "source": [
    "**To reveal complete information about a given dataframe we use DataFrameName.info() command:**"
   ]
  },
  {
   "cell_type": "code",
   "execution_count": 37,
   "id": "66f00d6c-acc9-4d5c-8e1b-b02ddc3d435f",
   "metadata": {},
   "outputs": [
    {
     "name": "stdout",
     "output_type": "stream",
     "text": [
      "<class 'pandas.core.frame.DataFrame'>\n",
      "RangeIndex: 2 entries, 0 to 1\n",
      "Data columns (total 4 columns):\n",
      " #   Column  Non-Null Count  Dtype     \n",
      "---  ------  --------------  -----     \n",
      " 0   A       2 non-null      float64   \n",
      " 1   B       2 non-null      object    \n",
      " 2   C       2 non-null      int64     \n",
      " 3   D       2 non-null      complex128\n",
      "dtypes: complex128(1), float64(1), int64(1), object(1)\n",
      "memory usage: 212.0+ bytes\n",
      "None\n"
     ]
    }
   ],
   "source": [
    "print(df.info())"
   ]
  },
  {
   "cell_type": "markdown",
   "id": "a1f0c254-31a0-4ac8-991e-e36077931689",
   "metadata": {},
   "source": [
    "### We can retrieve values of dataframe without labels and also try to retrieve the names of rows and columns individually:"
   ]
  },
  {
   "cell_type": "code",
   "execution_count": 38,
   "id": "22720b1c-ef74-402a-8d4a-6340bce4e91e",
   "metadata": {},
   "outputs": [
    {
     "name": "stdout",
     "output_type": "stream",
     "text": [
      "RangeIndex(start=0, stop=2, step=1)\n"
     ]
    }
   ],
   "source": [
    "print(df.index)"
   ]
  },
  {
   "cell_type": "code",
   "execution_count": 39,
   "id": "2db9528c-f3fc-4e27-8a67-6574e1df4530",
   "metadata": {},
   "outputs": [
    {
     "name": "stdout",
     "output_type": "stream",
     "text": [
      "Index(['A', 'B', 'C', 'D'], dtype='object')\n"
     ]
    }
   ],
   "source": [
    "print(df.columns)"
   ]
  },
  {
   "cell_type": "code",
   "execution_count": 40,
   "id": "580f2480-0840-4633-be24-028c74f5430b",
   "metadata": {},
   "outputs": [
    {
     "name": "stdout",
     "output_type": "stream",
     "text": [
      "[[10.0 'Text' 1 (3+9j)]\n",
      " [20.0 'Text' 2 (3+9j)]]\n"
     ]
    }
   ],
   "source": [
    "print(df.values)"
   ]
  }
 ],
 "metadata": {
  "kernelspec": {
   "display_name": "Python [conda env:base] *",
   "language": "python",
   "name": "conda-base-py"
  },
  "language_info": {
   "codemirror_mode": {
    "name": "ipython",
    "version": 3
   },
   "file_extension": ".py",
   "mimetype": "text/x-python",
   "name": "python",
   "nbconvert_exporter": "python",
   "pygments_lexer": "ipython3",
   "version": "3.13.5"
  }
 },
 "nbformat": 4,
 "nbformat_minor": 5
}
