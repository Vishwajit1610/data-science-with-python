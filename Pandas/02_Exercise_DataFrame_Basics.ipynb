{
 "cells": [
  {
   "cell_type": "markdown",
   "id": "fb38bb69-a0db-4e1c-af36-e40b79decf48",
   "metadata": {},
   "source": [
    "## Given below is a DataFrame df:\n",
    "```\n",
    "    import pandas as pd\n",
    "\n",
    "    df = pd.DataFrame([[0.23,'f1'],[5.36,'f2']],\n",
    "                      index = list('pq'),\n",
    "                        columns = list('ab'))\n",
    "```"
   ]
  },
  {
   "cell_type": "code",
   "execution_count": 46,
   "id": "f55eedce-7364-4079-ab69-5c35ccd539e6",
   "metadata": {},
   "outputs": [
    {
     "name": "stdout",
     "output_type": "stream",
     "text": [
      "      a   b\n",
      "p  0.23  f1\n",
      "q  5.36  f2\n"
     ]
    }
   ],
   "source": [
    "import pandas as pd\n",
    "\n",
    "df = pd.DataFrame([[0.23,'f1'],[5.36,'f2']],\n",
    "                    index = list('pq'),\n",
    "                    columns = list('ab'))\n",
    "print(df)"
   ]
  },
  {
   "cell_type": "markdown",
   "id": "e688bf65-146d-490c-940a-79cebe673c29",
   "metadata": {},
   "source": [
    "## Do the following:"
   ]
  },
  {
   "cell_type": "markdown",
   "id": "93574956-111d-445e-9e37-9a9908121eda",
   "metadata": {},
   "source": [
    "### Q.1. Change the column name from ' a' to ' A'. "
   ]
  },
  {
   "cell_type": "code",
   "execution_count": 47,
   "id": "1a446e53-aacc-4336-9a21-993a3f859bc4",
   "metadata": {},
   "outputs": [
    {
     "name": "stdout",
     "output_type": "stream",
     "text": [
      "      A   b\n",
      "p  0.23  f1\n",
      "q  5.36  f2\n"
     ]
    }
   ],
   "source": [
    "df.columns = ['A', 'b']\n",
    "print(df)"
   ]
  },
  {
   "cell_type": "markdown",
   "id": "f551a89e-d102-4b23-b69e-ad61faf6fbd7",
   "metadata": {},
   "source": [
    "### Q.2 Add a new column 'c' filled with random values."
   ]
  },
  {
   "cell_type": "code",
   "execution_count": 48,
   "id": "176eb620-3652-426a-a719-ea4f0275d0f7",
   "metadata": {},
   "outputs": [
    {
     "name": "stdout",
     "output_type": "stream",
     "text": [
      "      A   b   c\n",
      "p  0.23  f1  33\n",
      "q  5.36  f2  61\n"
     ]
    }
   ],
   "source": [
    "import numpy as np\n",
    "df['c'] = np.random.randint(1, 100, size = len(df))\n",
    "print(df)"
   ]
  },
  {
   "cell_type": "markdown",
   "id": "5398c7cb-c679-4997-9695-0ab990b69664",
   "metadata": {},
   "source": [
    "### Q.3 Change the datatype of column ' A' values to complex."
   ]
  },
  {
   "cell_type": "code",
   "execution_count": 49,
   "id": "3364d822-2989-4cb6-9b1b-2b648d15c1be",
   "metadata": {},
   "outputs": [
    {
     "name": "stdout",
     "output_type": "stream",
     "text": [
      "A    float64\n",
      "b     object\n",
      "c      int32\n",
      "dtype: object\n"
     ]
    }
   ],
   "source": [
    "print(df.dtypes)"
   ]
  },
  {
   "cell_type": "code",
   "execution_count": 50,
   "id": "dacac324-0055-4329-a995-7ef65bf51830",
   "metadata": {},
   "outputs": [
    {
     "name": "stdout",
     "output_type": "stream",
     "text": [
      "A    complex128\n",
      "b        object\n",
      "c         int32\n",
      "dtype: object\n"
     ]
    }
   ],
   "source": [
    "df['A'] = df['A'].astype(complex)\n",
    "print(df.dtypes)"
   ]
  },
  {
   "cell_type": "markdown",
   "id": "9c30670a-9eb6-4207-b78f-18606082c018",
   "metadata": {},
   "source": [
    "### Q.4 Display rows whose any of the element matches with any element of the given list:\n",
    "```\n",
    "    lst = ['f30','f50','f2','f0'] \n",
    "```"
   ]
  },
  {
   "cell_type": "code",
   "execution_count": 51,
   "id": "e380afcf-c3c9-42ce-8d87-023226ba6abf",
   "metadata": {},
   "outputs": [],
   "source": [
    "lst = ['f30','f50','f2','f0'] "
   ]
  },
  {
   "cell_type": "markdown",
   "id": "c2798705-f25a-4ee0-b572-d0bcd02410b7",
   "metadata": {},
   "source": [
    "**We can use combination of the .isin() method to find matches and the .any() method to check each row for a match.**"
   ]
  },
  {
   "cell_type": "code",
   "execution_count": 52,
   "id": "a5d05f9d-06f3-4fbe-a4db-cca91814a404",
   "metadata": {},
   "outputs": [
    {
     "name": "stdout",
     "output_type": "stream",
     "text": [
      "       A      b      c\n",
      "p  False  False  False\n",
      "q  False   True  False\n"
     ]
    }
   ],
   "source": [
    "# We first create a boolean map to check is there is any matching values.\n",
    "match_map = df.isin(lst)\n",
    "print(match_map)"
   ]
  },
  {
   "cell_type": "code",
   "execution_count": 53,
   "id": "89aff4ac-82ca-4068-a2c0-3d9caf16231a",
   "metadata": {},
   "outputs": [
    {
     "name": "stdout",
     "output_type": "stream",
     "text": [
      "p    False\n",
      "q     True\n",
      "dtype: bool\n"
     ]
    }
   ],
   "source": [
    "# Then we select the particular row by checking horizontally (axis = 1)\n",
    "row_select = match_map.any(axis = 1)\n",
    "print(row_select)"
   ]
  },
  {
   "cell_type": "code",
   "execution_count": 54,
   "id": "51f3de42-f0c6-465d-aa09-1dad19d9c89e",
   "metadata": {},
   "outputs": [
    {
     "name": "stdout",
     "output_type": "stream",
     "text": [
      "            A   b   c\n",
      "q  5.36+0.00j  f2  61\n"
     ]
    }
   ],
   "source": [
    "# Finally we apply the select to original DataFrame\n",
    "result = df[row_select]\n",
    "print(result)"
   ]
  }
 ],
 "metadata": {
  "kernelspec": {
   "display_name": "Python [conda env:base] *",
   "language": "python",
   "name": "conda-base-py"
  },
  "language_info": {
   "codemirror_mode": {
    "name": "ipython",
    "version": 3
   },
   "file_extension": ".py",
   "mimetype": "text/x-python",
   "name": "python",
   "nbconvert_exporter": "python",
   "pygments_lexer": "ipython3",
   "version": "3.13.5"
  }
 },
 "nbformat": 4,
 "nbformat_minor": 5
}
