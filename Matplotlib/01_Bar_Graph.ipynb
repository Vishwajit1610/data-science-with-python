{
 "cells": [
  {
   "cell_type": "markdown",
   "id": "10ab8650-4c31-4cd9-98eb-9ca5bbe4788d",
   "metadata": {},
   "source": [
    "# Bar Graph"
   ]
  },
  {
   "cell_type": "markdown",
   "id": "e6c0a3e1-ebae-43d3-9978-fd3d62b2037f",
   "metadata": {},
   "source": [
    "#### The Pokemon dataset consists of several features and values as can be seen in the downloaded CSV file. \n",
    "\n",
    "#### Let us try to plot the number of Pokemon against their Type_1 category. \n",
    "\n",
    "#### To initiate, we store the dataset in a dataframe df."
   ]
  },
  {
   "cell_type": "markdown",
   "id": "590ca9ba-b7bc-45ff-a347-c9d6db8b98d0",
   "metadata": {},
   "source": [
    "**Importing needed modules**"
   ]
  },
  {
   "cell_type": "code",
   "execution_count": 35,
   "id": "b950742e-c330-4d2e-8f2a-5f6264def237",
   "metadata": {},
   "outputs": [],
   "source": [
    "import numpy as np\n",
    "import pandas as pd\n",
    "import matplotlib.pyplot as plt"
   ]
  },
  {
   "cell_type": "code",
   "execution_count": 36,
   "id": "18663673-797e-4298-9b52-017b3f3bb421",
   "metadata": {},
   "outputs": [],
   "source": [
    "df = pd.read_csv('pokemon_alopez247.csv')"
   ]
  },
  {
   "cell_type": "markdown",
   "id": "8f0bd05e-4561-4f74-9480-ac878ac267da",
   "metadata": {},
   "source": [
    "**NOTE: The required input file should be availbale in the current working directory.**"
   ]
  },
  {
   "cell_type": "markdown",
   "id": "80e30041-955e-4fef-87b1-1d2eed928ac7",
   "metadata": {},
   "source": [
    "#### Next, let us count the number of distinct groups along with the number of Pokemon(s) belonging to that group available under Type_1 category. \n",
    "\n",
    "#### We use scipy.stats module to import itemfreq function which results in the total number of distinct samples with their frequency.\n",
    "\n",
    "#### Note: The `itemfreq` function has been deprecated and removed from newer versions of SciPy. It's no longer available in the `scipy.stats` module. Therefore, we use the `value_counts()` function from Pandas Module."
   ]
  },
  {
   "cell_type": "code",
   "execution_count": 37,
   "id": "821a6054-7735-4c1a-b9e3-db8b8e6c0561",
   "metadata": {},
   "outputs": [],
   "source": [
    "# Get the counts for the 'Type_1' column\n",
    "type_1 = df['Type_1'].value_counts()"
   ]
  },
  {
   "cell_type": "code",
   "execution_count": 38,
   "id": "9d17da4a-51da-4b97-ba13-dd51d89df5c8",
   "metadata": {},
   "outputs": [
    {
     "name": "stdout",
     "output_type": "stream",
     "text": [
      "Type_1\n",
      "Water       105\n",
      "Normal       93\n",
      "Grass        66\n",
      "Bug          63\n",
      "Fire         47\n",
      "Psychic      47\n",
      "Rock         41\n",
      "Electric     36\n",
      "Ground       30\n",
      "Poison       28\n",
      "Dark         28\n",
      "Fighting     25\n",
      "Dragon       24\n",
      "Ice          23\n",
      "Ghost        23\n",
      "Steel        22\n",
      "Fairy        17\n",
      "Flying        3\n",
      "Name: count, dtype: int64\n"
     ]
    }
   ],
   "source": [
    "print(type_1)"
   ]
  },
  {
   "cell_type": "code",
   "execution_count": 39,
   "id": "37a6005e-69b6-4366-aff6-e6011901f95e",
   "metadata": {},
   "outputs": [],
   "source": [
    "# Total number of distinct groups\n",
    "type_1_grps = len(type_1)"
   ]
  },
  {
   "cell_type": "code",
   "execution_count": 40,
   "id": "2a3bb029-7cb5-4d37-ba1f-91f0712665f8",
   "metadata": {},
   "outputs": [
    {
     "name": "stdout",
     "output_type": "stream",
     "text": [
      "18\n"
     ]
    }
   ],
   "source": [
    "print(type_1_grps)"
   ]
  },
  {
   "cell_type": "code",
   "execution_count": 41,
   "id": "3b7659be-ff44-4c19-95d0-b0fa50cbbe1a",
   "metadata": {},
   "outputs": [],
   "source": [
    "# Names of group\n",
    "type_1_names = type_1.index"
   ]
  },
  {
   "cell_type": "code",
   "execution_count": 42,
   "id": "3331a50e-6772-48f5-868e-e6d72ea5f5df",
   "metadata": {},
   "outputs": [
    {
     "name": "stdout",
     "output_type": "stream",
     "text": [
      "Index(['Water', 'Normal', 'Grass', 'Bug', 'Fire', 'Psychic', 'Rock',\n",
      "       'Electric', 'Ground', 'Poison', 'Dark', 'Fighting', 'Dragon', 'Ice',\n",
      "       'Ghost', 'Steel', 'Fairy', 'Flying'],\n",
      "      dtype='object', name='Type_1')\n"
     ]
    }
   ],
   "source": [
    "print(type_1_names)"
   ]
  },
  {
   "cell_type": "code",
   "execution_count": 43,
   "id": "bc06b1ca-425e-425a-a2a4-caa64d11f4e0",
   "metadata": {},
   "outputs": [],
   "source": [
    "# Pokemon count particular to each group\n",
    "type_1_count = type_1.values"
   ]
  },
  {
   "cell_type": "code",
   "execution_count": 44,
   "id": "8a4886fa-f515-4c7d-b37b-f82d41f997ee",
   "metadata": {},
   "outputs": [
    {
     "name": "stdout",
     "output_type": "stream",
     "text": [
      "[105  93  66  63  47  47  41  36  30  28  28  25  24  23  23  22  17   3]\n"
     ]
    }
   ],
   "source": [
    "print(type_1_count)"
   ]
  },
  {
   "cell_type": "markdown",
   "id": "3ee5526f-682e-4c04-8058-3a69d1587afa",
   "metadata": {},
   "source": [
    "#### Since so far we are able to retrieve the number of groups and their Pokemon count, now let us plot a bar graph against these variables."
   ]
  },
  {
   "cell_type": "code",
   "execution_count": 45,
   "id": "c689e7c8-62ff-445b-86b2-41faf4746b5a",
   "metadata": {},
   "outputs": [],
   "source": [
    "type_1_grps = np.arange(type_1_grps)"
   ]
  },
  {
   "cell_type": "code",
   "execution_count": 46,
   "id": "aa9a783e-3a5d-4fd1-b206-c8c657c0e2c1",
   "metadata": {},
   "outputs": [],
   "source": [
    "bar_width = 0.5"
   ]
  },
  {
   "cell_type": "code",
   "execution_count": 47,
   "id": "d92d6eec-65d7-4f76-9b78-bf27d1e0de4b",
   "metadata": {},
   "outputs": [
    {
     "data": {
      "image/png": "[encoded data removed]",
      "text/plain": [
       "<Figure size 640x480 with 1 Axes>"
      ]
     },
     "metadata": {},
     "output_type": "display_data"
    }
   ],
   "source": [
    "plt.bar(type_1_grps, type_1_count, bar_width,\n",
    "                 alpha = 0.5,   # tranparency factor\n",
    "                 color = 'g',   # color factor\n",
    "                 label='Pokemon count respective to their Type_1')\n",
    "plt.legend(loc='best')\n",
    "plt.xticks(type_1_grps + bar_width/2, type_1_names, rotation=90, ha='right')\n",
    "plt.show()"
   ]
  }
 ],
 "metadata": {
  "kernelspec": {
   "display_name": "Python [conda env:base] *",
   "language": "python",
   "name": "conda-base-py"
  },
  "language_info": {
   "codemirror_mode": {
    "name": "ipython",
    "version": 3
   },
   "file_extension": ".py",
   "mimetype": "text/x-python",
   "name": "python",
   "nbconvert_exporter": "python",
   "pygments_lexer": "ipython3",
   "version": "3.13.5"
  }
 },
 "nbformat": 4,
 "nbformat_minor": 5
}
