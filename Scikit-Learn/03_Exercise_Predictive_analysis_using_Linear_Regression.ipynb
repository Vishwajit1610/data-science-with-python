{
 "cells": [
  {
   "cell_type": "markdown",
   "id": "491cf4bd-7dfa-4069-9190-ed87be0e2c72",
   "metadata": {},
   "source": [
    "## Problem Statement:\n",
    "\n",
    "#### Given an Airfare and Demand 2002Q4 dataset and attribute information (which are present in the Data Folder). \n",
    "\n",
    "#### Build a linear regression model on the dataset to predict the price of the airfare."
   ]
  },
  {
   "cell_type": "code",
   "execution_count": 33,
   "id": "540a6913-c10d-4352-b879-675ebf25e864",
   "metadata": {},
   "outputs": [],
   "source": [
    "# Import Needed Libraries\n",
    "import pandas as pd\n",
    "import matplotlib.pyplot as plt\n",
    "from sklearn.linear_model import LinearRegression\n",
    "from sklearn.model_selection import train_test_split"
   ]
  },
  {
   "cell_type": "code",
   "execution_count": 34,
   "id": "5b0dc7fa-8690-4d7b-b02d-341cbdd6fb95",
   "metadata": {},
   "outputs": [],
   "source": [
    "# Assigning Column Names from Attribute Info file.\n",
    "col_names = ['City 1', 'City 2', 'Average Fare', 'Distance', 'Average weekly passengers', 'market leading airline', 'MLA market share', 'MLA Average fare', 'Low price airline', 'LPA market share', 'Price']"
   ]
  },
  {
   "cell_type": "code",
   "execution_count": 35,
   "id": "1b77a766-f1e0-4125-90c7-dc2ce23b8936",
   "metadata": {},
   "outputs": [],
   "source": [
    "# Reading the CSV Data Set\n",
    "data = pd.read_csv(\"./data/Airfare and Demand 2002Q4.csv\", sep='\\s+', header = None, names = col_names)"
   ]
  },
  {
   "cell_type": "code",
   "execution_count": 36,
   "id": "1b50c770-d408-4294-ae1e-d9e7fd4a0e14",
   "metadata": {},
   "outputs": [
    {
     "name": "stdout",
     "output_type": "stream",
     "text": [
      "<class 'pandas.core.frame.DataFrame'>\n",
      "RangeIndex: 1000 entries, 0 to 999\n",
      "Data columns (total 11 columns):\n",
      " #   Column                     Non-Null Count  Dtype  \n",
      "---  ------                     --------------  -----  \n",
      " 0   City 1                     1000 non-null   object \n",
      " 1   City 2                     1000 non-null   object \n",
      " 2   Average Fare               1000 non-null   float64\n",
      " 3   Distance                   1000 non-null   int64  \n",
      " 4   Average weekly passengers  1000 non-null   float64\n",
      " 5   market leading airline     1000 non-null   object \n",
      " 6   MLA market share           1000 non-null   float64\n",
      " 7   MLA Average fare           1000 non-null   float64\n",
      " 8   Low price airline          1000 non-null   object \n",
      " 9   LPA market share           1000 non-null   float64\n",
      " 10  Price                      1000 non-null   float64\n",
      "dtypes: float64(6), int64(1), object(4)\n",
      "memory usage: 86.1+ KB\n",
      "None\n"
     ]
    }
   ],
   "source": [
    "# Getting the DataType of the columns\n",
    "print(data.info())"
   ]
  },
  {
   "cell_type": "code",
   "execution_count": 37,
   "id": "a697463d-d50f-484d-b4f0-346db90342b8",
   "metadata": {},
   "outputs": [
    {
     "name": "stdout",
     "output_type": "stream",
     "text": [
      "  City 1 City 2  Average Fare  Distance  Average weekly passengers  \\\n",
      "0    CAK    ATL        114.47       528                     424.56   \n",
      "1    CAK    MCO        122.47       860                     276.84   \n",
      "2    ALB    ATL        214.42       852                     215.76   \n",
      "3    ALB    BWI         69.40       288                     606.84   \n",
      "4    ALB    ORD        158.13       723                     313.04   \n",
      "\n",
      "  market leading airline  MLA market share  MLA Average fare  \\\n",
      "0                     FL             70.19            111.03   \n",
      "1                     FL             75.10            123.09   \n",
      "2                     DL             78.89            223.98   \n",
      "3                     WN             96.97             68.86   \n",
      "4                     UA             39.79            161.36   \n",
      "\n",
      "  Low price airline  LPA market share   Price  \n",
      "0                FL             70.19  111.03  \n",
      "1                DL             17.23  118.94  \n",
      "2                CO              2.77  167.12  \n",
      "3                WN             96.97   68.86  \n",
      "4                WN             15.34  145.42  \n"
     ]
    }
   ],
   "source": [
    "print(data.head())"
   ]
  },
  {
   "cell_type": "code",
   "execution_count": 38,
   "id": "b3c7ec20-1dc3-4152-8ae0-749b33c25b7d",
   "metadata": {},
   "outputs": [
    {
     "name": "stdout",
     "output_type": "stream",
     "text": [
      "       Average Fare     Distance  Average weekly passengers  MLA market share  \\\n",
      "count    1000.00000  1000.000000                1000.000000       1000.000000   \n",
      "mean      163.37542  1056.973000                 672.279140         60.128590   \n",
      "std        55.36547   643.203251                 766.519254         19.367779   \n",
      "min        50.52000   108.000000                 181.410000         17.680000   \n",
      "25%       125.97500   553.500000                 257.197500         46.510000   \n",
      "50%       161.34500   919.000000                 404.780000         59.240000   \n",
      "75%       197.39250  1452.500000                 769.912500         73.510000   \n",
      "max       401.23000  2724.000000                8950.760000        100.000000   \n",
      "\n",
      "       MLA Average fare  LPA market share        Price  \n",
      "count        1000.00000       1000.000000  1000.000000  \n",
      "mean          166.64756         34.551480   143.193090  \n",
      "std            62.66014         27.096999    47.229184  \n",
      "min            50.52000          1.060000    49.610000  \n",
      "25%           124.08500         13.195000   113.767500  \n",
      "50%           161.40000         26.140000   137.825000  \n",
      "75%           202.97750         52.972500   168.530000  \n",
      "max           490.03000        100.000000   387.940000  \n"
     ]
    }
   ],
   "source": [
    "# Getting the overall information of the numerical data present in the data set.\n",
    "print(data.describe())"
   ]
  },
  {
   "cell_type": "markdown",
   "id": "3e54f359-9a90-41b9-ae3a-d77ff9f44b1f",
   "metadata": {},
   "source": [
    "**Checking if there's any missing values in the data set.**"
   ]
  },
  {
   "cell_type": "code",
   "execution_count": 39,
   "id": "32bfa026-9356-4792-9797-c7bbc6dfff30",
   "metadata": {},
   "outputs": [
    {
     "data": {
      "text/plain": [
       "City 1                       0\n",
       "City 2                       0\n",
       "Average Fare                 0\n",
       "Distance                     0\n",
       "Average weekly passengers    0\n",
       "market leading airline       0\n",
       "MLA market share             0\n",
       "MLA Average fare             0\n",
       "Low price airline            0\n",
       "LPA market share             0\n",
       "Price                        0\n",
       "dtype: int64"
      ]
     },
     "execution_count": 39,
     "metadata": {},
     "output_type": "execute_result"
    }
   ],
   "source": [
    "data.isnull().sum()"
   ]
  },
  {
   "cell_type": "markdown",
   "id": "d420c370-db83-487c-a5db-a88e96f19360",
   "metadata": {},
   "source": [
    "### Building Linear Regression Model on the Data"
   ]
  },
  {
   "cell_type": "code",
   "execution_count": 40,
   "id": "e5b09e89-7a0d-46fb-99a8-f0d25e0b6ebf",
   "metadata": {},
   "outputs": [],
   "source": [
    "X = data[[\"Average Fare\", \"Distance\", \"Average weekly passengers\",\n",
    "        \"MLA market share\", \"MLA Average fare\", \"LPA market share\"]]\n",
    "y = data['Price']"
   ]
  },
  {
   "cell_type": "code",
   "execution_count": 41,
   "id": "d190f582-4b41-4b67-baf6-4bdf1b01a55b",
   "metadata": {},
   "outputs": [],
   "source": [
    "# Train-test split (33% test)\n",
    "X_train, X_test, y_train, y_test = train_test_split(X, y, test_size=0.33, random_state=42)"
   ]
  },
  {
   "cell_type": "code",
   "execution_count": 42,
   "id": "15ad3749-f91d-4ff5-82d0-604db0f7fdb4",
   "metadata": {},
   "outputs": [],
   "source": [
    "# Fit model\n",
    "lm = LinearRegression()\n",
    "lm.fit(X_train, y_train)\n",
    "pred_test = lm.predict(X_test)"
   ]
  },
  {
   "cell_type": "code",
   "execution_count": 43,
   "id": "97c7742b-3a15-4869-b922-43f871722403",
   "metadata": {},
   "outputs": [
    {
     "data": {
      "image/png": "[encoded data removed]",
      "text/plain": [
       "<Figure size 640x480 with 1 Axes>"
      ]
     },
     "metadata": {},
     "output_type": "display_data"
    }
   ],
   "source": [
    "# Scatter plot\n",
    "plt.scatter(y_test, pred_test)\n",
    "plt.plot([y_test.min(), y_test.max()],\n",
    "         [y_test.min(), y_test.max()],\n",
    "         color='red', linewidth=2)\n",
    "plt.xlabel('Actual Price')\n",
    "plt.ylabel('Predicted Price')\n",
    "plt.show()"
   ]
  }
 ],
 "metadata": {
  "kernelspec": {
   "display_name": "Python [conda env:base] *",
   "language": "python",
   "name": "conda-base-py"
  },
  "language_info": {
   "codemirror_mode": {
    "name": "ipython",
    "version": 3
   },
   "file_extension": ".py",
   "mimetype": "text/x-python",
   "name": "python",
   "nbconvert_exporter": "python",
   "pygments_lexer": "ipython3",
   "version": "3.13.5"
  }
 },
 "nbformat": 4,
 "nbformat_minor": 5
}
