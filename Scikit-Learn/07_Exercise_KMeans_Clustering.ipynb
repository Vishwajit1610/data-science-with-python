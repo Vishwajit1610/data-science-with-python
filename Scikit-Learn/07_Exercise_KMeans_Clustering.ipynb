{
 "cells": [
  {
   "cell_type": "markdown",
   "id": "143db9ac-c4ea-4bb6-b58f-a64188101479",
   "metadata": {},
   "source": [
    "## Import the 'iris-modified' dataset to python environment. Perform the following operations:\n",
    "\n",
    "### 1. Find 3 clusters in this dataset. \n",
    "\n",
    "### 2. Find the size of each cluster.  \n",
    "\n",
    "### 3. Visualize the clusters using the matplotlib library."
   ]
  },
  {
   "cell_type": "code",
   "execution_count": 12,
   "id": "221b0afe-7831-48a7-bd0b-e8d4c30f89cc",
   "metadata": {},
   "outputs": [],
   "source": [
    "import pandas as pd\n",
    "from sklearn.cluster import KMeans\n",
    "import matplotlib.pyplot as plt"
   ]
  },
  {
   "cell_type": "code",
   "execution_count": 13,
   "id": "925cfb28-36cc-400f-8f3a-ffa54deec766",
   "metadata": {},
   "outputs": [],
   "source": [
    "df = pd.read_csv(\"./data/iris-modified.csv\")"
   ]
  },
  {
   "cell_type": "code",
   "execution_count": 14,
   "id": "fdc5da50-22f7-479d-8864-c075ef1c5b86",
   "metadata": {},
   "outputs": [
    {
     "name": "stdout",
     "output_type": "stream",
     "text": [
      "<class 'pandas.core.frame.DataFrame'>\n",
      "RangeIndex: 150 entries, 0 to 149\n",
      "Data columns (total 4 columns):\n",
      " #   Column        Non-Null Count  Dtype  \n",
      "---  ------        --------------  -----  \n",
      " 0   Sepal.Length  150 non-null    float64\n",
      " 1   Sepal.Width   150 non-null    float64\n",
      " 2   Petal.Length  150 non-null    float64\n",
      " 3   Petal.Width   150 non-null    float64\n",
      "dtypes: float64(4)\n",
      "memory usage: 4.8 KB\n",
      "None\n"
     ]
    }
   ],
   "source": [
    "print(df.info())"
   ]
  },
  {
   "cell_type": "code",
   "execution_count": 15,
   "id": "7e65660b-eb21-4b3a-8893-81fc7757e13b",
   "metadata": {
    "scrolled": true
   },
   "outputs": [
    {
     "name": "stdout",
     "output_type": "stream",
     "text": [
      "     Sepal.Length  Sepal.Width  Petal.Length  Petal.Width\n",
      "0             5.1          3.5           1.4          0.2\n",
      "1             4.9          3.0           1.4          0.2\n",
      "2             4.7          3.2           1.3          0.2\n",
      "3             4.6          3.1           1.5          0.2\n",
      "4             5.0          3.6           1.4          0.2\n",
      "..            ...          ...           ...          ...\n",
      "145           6.7          3.0           5.2          2.3\n",
      "146           6.3          2.5           5.0          1.9\n",
      "147           6.5          3.0           5.2          2.0\n",
      "148           6.2          3.4           5.4          2.3\n",
      "149           5.9          3.0           5.1          1.8\n",
      "\n",
      "[150 rows x 4 columns]\n"
     ]
    }
   ],
   "source": [
    "print(df)"
   ]
  },
  {
   "cell_type": "markdown",
   "id": "e0875546-c129-471f-982b-2f03c56990d3",
   "metadata": {},
   "source": [
    "#### 1. Find clusters in dataset"
   ]
  },
  {
   "cell_type": "code",
   "execution_count": 16,
   "id": "3c0a6e6b-6083-4d31-bf0c-3f44b9de5c73",
   "metadata": {},
   "outputs": [],
   "source": [
    "X = df"
   ]
  },
  {
   "cell_type": "code",
   "execution_count": 17,
   "id": "df857517-c1a8-4ae3-ae00-2d4a2288bc9b",
   "metadata": {},
   "outputs": [
    {
     "name": "stderr",
     "output_type": "stream",
     "text": [
      "C:\\Users\\mohol\\anaconda3\\Lib\\site-packages\\sklearn\\cluster\\_kmeans.py:1419: UserWarning: KMeans is known to have a memory leak on Windows with MKL, when there are less chunks than available threads. You can avoid it by setting the environment variable OMP_NUM_THREADS=1.\n",
      "  warnings.warn(\n"
     ]
    }
   ],
   "source": [
    "kmeans = KMeans(n_clusters = 3)\n",
    "kmeans.fit(X)\n",
    "pred = kmeans.labels_"
   ]
  },
  {
   "cell_type": "code",
   "execution_count": 18,
   "id": "2a353c56-c4c6-4ff0-9638-774a332032af",
   "metadata": {},
   "outputs": [
    {
     "name": "stdout",
     "output_type": "stream",
     "text": [
      "[0 0 0 0 0 0 0 0 0 0 0 0 0 0 0 0 0 0 0 0 0 0 0 0 0 0 0 0 0 0 0 0 0 0 0 0 0\n",
      " 0 0 0 0 0 0 0 0 0 0 0 0 0 1 1 2 1 1 1 1 1 1 1 1 1 1 1 1 1 1 1 1 1 1 1 1 1\n",
      " 1 1 1 2 1 1 1 1 1 1 1 1 1 1 1 1 1 1 1 1 1 1 1 1 1 1 2 1 2 2 2 2 1 2 2 2 2\n",
      " 2 2 1 1 2 2 2 2 1 2 1 2 1 2 2 1 1 2 2 2 2 2 1 2 2 2 2 1 2 2 2 1 2 2 2 1 2\n",
      " 2 1]\n"
     ]
    }
   ],
   "source": [
    "print(pred)"
   ]
  },
  {
   "cell_type": "markdown",
   "id": "f4be56c5-2a01-4b65-b781-221689d48227",
   "metadata": {},
   "source": [
    "#### 2. Find the size of each cluster"
   ]
  },
  {
   "cell_type": "code",
   "execution_count": 19,
   "id": "cb0a8ab5-637a-4cf7-b35c-c9bdda112478",
   "metadata": {},
   "outputs": [
    {
     "name": "stdout",
     "output_type": "stream",
     "text": [
      "1    62\n",
      "0    50\n",
      "2    38\n",
      "Name: count, dtype: int64\n"
     ]
    }
   ],
   "source": [
    "size = pd.Series(pred).value_counts()\n",
    "print(size)"
   ]
  },
  {
   "cell_type": "code",
   "execution_count": 20,
   "id": "a83b9e2d-6eda-470e-a0bc-3135e0b0f566",
   "metadata": {},
   "outputs": [
    {
     "name": "stdout",
     "output_type": "stream",
     "text": [
      "[[5.006      3.428      1.462      0.246     ]\n",
      " [5.9016129  2.7483871  4.39354839 1.43387097]\n",
      " [6.85       3.07368421 5.74210526 2.07105263]]\n"
     ]
    }
   ],
   "source": [
    "centroids = kmeans.cluster_centers_\n",
    "print(centroids)"
   ]
  },
  {
   "cell_type": "markdown",
   "id": "3b6673a0-4f2a-4358-924a-7238e0799513",
   "metadata": {},
   "source": [
    "#### 3. Visualize the clusters"
   ]
  },
  {
   "cell_type": "markdown",
   "id": "b5c8323a-c49f-4523-b82f-66874213f162",
   "metadata": {},
   "source": [
    "**Selecting Features**"
   ]
  },
  {
   "cell_type": "code",
   "execution_count": 21,
   "id": "151bb116-53f5-42f8-ae99-2dd750f9ea49",
   "metadata": {},
   "outputs": [],
   "source": [
    "x = df['Petal.Length']\n",
    "y = df['Petal.Width']"
   ]
  },
  {
   "cell_type": "code",
   "execution_count": 22,
   "id": "898b2799-9f9b-4258-b3ac-645792f8f099",
   "metadata": {},
   "outputs": [
    {
     "data": {
      "image/png": "[encoded data removed]",
      "text/plain": [
       "<Figure size 640x480 with 1 Axes>"
      ]
     },
     "metadata": {},
     "output_type": "display_data"
    }
   ],
   "source": [
    "plt.scatter(x, y, c = pred)\n",
    "\n",
    "plt.scatter(centroids[:, 2], centroids[:, 3], color = 'y')\n",
    "\n",
    "plt.xlabel('Petal Length')\n",
    "plt.ylabel('Petal Width')\n",
    "plt.title('Number of Clusters: 3')\n",
    "\n",
    "plt.show()"
   ]
  }
 ],
 "metadata": {
  "kernelspec": {
   "display_name": "Python [conda env:base] *",
   "language": "python",
   "name": "conda-base-py"
  },
  "language_info": {
   "codemirror_mode": {
    "name": "ipython",
    "version": 3
   },
   "file_extension": ".py",
   "mimetype": "text/x-python",
   "name": "python",
   "nbconvert_exporter": "python",
   "pygments_lexer": "ipython3",
   "version": "3.13.5"
  }
 },
 "nbformat": 4,
 "nbformat_minor": 5
}
