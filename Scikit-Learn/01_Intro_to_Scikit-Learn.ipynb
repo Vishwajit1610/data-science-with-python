{
 "cells": [
  {
   "cell_type": "markdown",
   "id": "18530864-111d-4855-b665-493587a10b59",
   "metadata": {},
   "source": [
    "# Introduction to Scikit-Learn"
   ]
  },
  {
   "cell_type": "markdown",
   "id": "dc1b7c97-cfb0-4683-a26b-b346501e833c",
   "metadata": {},
   "source": [
    "## Scikit-Learn (sklearn) is a devoted machine learning platform introduced in Python. \n",
    "\n",
    "### It provides simple and efficient tools for data mining and data analysis. \n",
    "\n",
    "### It has been built upon Numpy, Scipy and Matplotlib modules which we have learnt so far. Moreover, sklearn is open source and commercially usable under BSD license.\n",
    "\n",
    "### Common prevalent techniques are pre-processing, classification, regression, clustering, dimensionality reduction, model selection etc. In our course, we will focus on the implementation of the following topics:\n",
    "\n",
    "- Linear regression\n",
    "\n",
    "- Logistic regression\n",
    "\n",
    "- Decision trees\n",
    "\n",
    "- Clustering"
   ]
  }
 ],
 "metadata": {
  "kernelspec": {
   "display_name": "Python [conda env:base] *",
   "language": "python",
   "name": "conda-base-py"
  },
  "language_info": {
   "codemirror_mode": {
    "name": "ipython",
    "version": 3
   },
   "file_extension": ".py",
   "mimetype": "text/x-python",
   "name": "python",
   "nbconvert_exporter": "python",
   "pygments_lexer": "ipython3",
   "version": "3.13.5"
  }
 },
 "nbformat": 4,
 "nbformat_minor": 5
}
