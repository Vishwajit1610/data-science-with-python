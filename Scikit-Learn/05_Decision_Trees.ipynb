{
 "cells": [
  {
   "cell_type": "markdown",
   "id": "07433b1f-80b6-4c2d-b427-fc32a6e3c0f8",
   "metadata": {},
   "source": [
    "## Decision Trees"
   ]
  },
  {
   "cell_type": "markdown",
   "id": "1ed8a4e3-a3e7-412c-8fbc-d7bf8cee19c6",
   "metadata": {},
   "source": [
    "### Another form of supervised learning is decision tree. \n",
    "\n",
    "### A decision tree is for classification and regression models. \n",
    "\n",
    "### The goal is to create a model that predicts the value of a target variable by learning simple decision rules inferred from the data features.\n",
    "\n",
    "### To demonstrate the working of a decision tree classifier, we take balance scale dataset (information) [present inside data folder] whose objective is to classify whether the scale has more load on right, left or centered. \n",
    "\n",
    "### The attributes are the left weight, the left distance, the right weight, and the right distance.\n",
    "\n",
    "### Let us load the data into a dataframe and so forth get the training and the testing data. \n",
    "\n",
    "### Assuming you have the dataset into an excel file format and stored in the same working directory."
   ]
  },
  {
   "cell_type": "code",
   "execution_count": 27,
   "id": "288e9a35-342e-4859-8bd3-b7878bd5ef99",
   "metadata": {},
   "outputs": [],
   "source": [
    "import pandas as pd\n",
    "from sklearn.model_selection import train_test_split\n",
    "from sklearn.tree import DecisionTreeClassifier\n",
    "from sklearn.metrics import accuracy_score"
   ]
  },
  {
   "cell_type": "code",
   "execution_count": 28,
   "id": "2e917a9b-851b-4b94-be49-fe97b619d214",
   "metadata": {},
   "outputs": [],
   "source": [
    "cols = ['Class Name', 'Left-Weight', 'Left-Distance', 'Right-Weight', 'Right-Distance']"
   ]
  },
  {
   "cell_type": "code",
   "execution_count": 29,
   "id": "ddac9efd-4938-4391-9fee-ecef2c1cafb3",
   "metadata": {},
   "outputs": [],
   "source": [
    "df = pd.read_csv(\"./data/Decision_Tree_DataSet.csv\", header = None, names = cols)"
   ]
  },
  {
   "cell_type": "code",
   "execution_count": 30,
   "id": "dcb96fbc-1f69-4092-a348-8d358048b83e",
   "metadata": {},
   "outputs": [
    {
     "name": "stdout",
     "output_type": "stream",
     "text": [
      "<class 'pandas.core.frame.DataFrame'>\n",
      "RangeIndex: 625 entries, 0 to 624\n",
      "Data columns (total 5 columns):\n",
      " #   Column          Non-Null Count  Dtype \n",
      "---  ------          --------------  ----- \n",
      " 0   Class Name      625 non-null    object\n",
      " 1   Left-Weight     625 non-null    int64 \n",
      " 2   Left-Distance   625 non-null    int64 \n",
      " 3   Right-Weight    625 non-null    int64 \n",
      " 4   Right-Distance  625 non-null    int64 \n",
      "dtypes: int64(4), object(1)\n",
      "memory usage: 24.5+ KB\n",
      "None\n"
     ]
    }
   ],
   "source": [
    "print(df.info())"
   ]
  },
  {
   "cell_type": "code",
   "execution_count": 31,
   "id": "992161fd-65ac-452b-ad4d-a24fab4f1dc8",
   "metadata": {},
   "outputs": [
    {
     "data": {
      "text/plain": [
       "Class Name        0\n",
       "Left-Weight       0\n",
       "Left-Distance     0\n",
       "Right-Weight      0\n",
       "Right-Distance    0\n",
       "dtype: int64"
      ]
     },
     "execution_count": 31,
     "metadata": {},
     "output_type": "execute_result"
    }
   ],
   "source": [
    "df.isnull().sum()"
   ]
  },
  {
   "cell_type": "code",
   "execution_count": 32,
   "id": "cbf447e8-0ff5-4462-8243-3e78ba02ad9c",
   "metadata": {},
   "outputs": [],
   "source": [
    "X = df.values[:, 1:5]   # Other features\n",
    "Y = df.values[:,0]  # Target"
   ]
  },
  {
   "cell_type": "code",
   "execution_count": 33,
   "id": "5abbee8a-d775-4c1c-9600-37b2b4f28de9",
   "metadata": {},
   "outputs": [],
   "source": [
    "# Splitting data\n",
    "X_train, X_test, y_train, y_test = train_test_split( X, Y, test_size = 0.3, random_state = 42)"
   ]
  },
  {
   "cell_type": "markdown",
   "id": "7895829f-2cef-4c4a-95e2-97bffbe6bd10",
   "metadata": {},
   "source": [
    "### A decision tree classifier can have two criterion i.e. Gini or Entropy. Let us build both of them to fit the model and achieve some predictions."
   ]
  },
  {
   "cell_type": "markdown",
   "id": "f104955c-10c6-4ba5-b872-50fd30225bc6",
   "metadata": {},
   "source": [
    "#### Gini Impurity"
   ]
  },
  {
   "cell_type": "code",
   "execution_count": 34,
   "id": "7b7a71be-7f46-4850-9d67-94f196e6099e",
   "metadata": {},
   "outputs": [],
   "source": [
    "lm_gini = DecisionTreeClassifier(criterion = \"gini\", random_state = 42,\n",
    "                              max_depth=3, \n",
    "                              min_samples_leaf=5) # min. samples req. at leaf node\n",
    "lm_gini.fit(X_train, y_train)\n",
    "y_pred = lm_gini.predict(X_test)"
   ]
  },
  {
   "cell_type": "markdown",
   "id": "442fb96e-742d-4444-aadc-ef99f6ab1850",
   "metadata": {},
   "source": [
    "#### Information Gain"
   ]
  },
  {
   "cell_type": "code",
   "execution_count": 35,
   "id": "94e3e47e-99f7-484f-b50d-478f57171ab6",
   "metadata": {},
   "outputs": [],
   "source": [
    "lm_ig = DecisionTreeClassifier(criterion = \"entropy\", random_state = 42,\n",
    "                              max_depth=3, \n",
    "                              min_samples_leaf=5)\n",
    "lm_ig.fit(X_train, y_train)\n",
    "y_pred_ig = lm_ig.predict(X_test)"
   ]
  },
  {
   "cell_type": "markdown",
   "id": "3329fd30-570d-43e4-a229-2c80e540b868",
   "metadata": {},
   "source": [
    "### The predictions in either of the cases have been stored in parameters y_pred and y_pred_ig. \n",
    "\n",
    "### Run the following snippet to get a certainty of the prediction."
   ]
  },
  {
   "cell_type": "code",
   "execution_count": 36,
   "id": "a9dc5589-1825-451f-a385-cd576f457369",
   "metadata": {},
   "outputs": [
    {
     "name": "stdout",
     "output_type": "stream",
     "text": [
      "['L' 'L' 'L' 'R' 'L' 'R' 'R' 'R' 'L' 'R' 'R' 'R' 'L' 'L' 'L' 'R' 'R' 'L'\n",
      " 'R' 'R' 'R' 'R' 'R' 'L' 'L' 'L' 'L' 'L' 'L' 'L' 'L' 'R' 'R' 'L' 'R' 'L'\n",
      " 'L' 'L' 'R' 'L' 'L' 'R' 'R' 'L' 'L' 'R' 'R' 'R' 'R' 'L' 'L' 'L' 'R' 'L'\n",
      " 'L' 'L' 'R' 'L' 'L' 'R' 'L' 'L' 'R' 'L' 'L' 'L' 'R' 'R' 'R' 'L' 'R' 'R'\n",
      " 'R' 'R' 'R' 'L' 'L' 'L' 'L' 'R' 'L' 'L' 'R' 'L' 'R' 'L' 'L' 'L' 'R' 'L'\n",
      " 'L' 'L' 'R' 'L' 'R' 'R' 'R' 'R' 'R' 'R' 'R' 'L' 'R' 'L' 'R' 'R' 'L' 'R'\n",
      " 'L' 'R' 'R' 'R' 'R' 'L' 'L' 'R' 'L' 'L' 'L' 'R' 'R' 'L' 'R' 'R' 'R' 'R'\n",
      " 'L' 'R' 'R' 'R' 'L' 'L' 'L' 'L' 'L' 'L' 'R' 'R' 'R' 'L' 'R' 'L' 'R' 'R'\n",
      " 'R' 'R' 'R' 'L' 'R' 'R' 'R' 'R' 'L' 'L' 'R' 'R' 'R' 'L' 'R' 'L' 'L' 'R'\n",
      " 'R' 'L' 'R' 'R' 'R' 'L' 'R' 'L' 'L' 'R' 'R' 'R' 'L' 'L' 'L' 'L' 'R' 'L'\n",
      " 'R' 'R' 'L' 'R' 'L' 'R' 'R' 'L']\n",
      "['L' 'L' 'R' 'R' 'L' 'R' 'R' 'L' 'L' 'R' 'R' 'R' 'R' 'R' 'L' 'L' 'R' 'L'\n",
      " 'R' 'R' 'R' 'R' 'R' 'L' 'L' 'R' 'L' 'L' 'L' 'L' 'L' 'R' 'R' 'L' 'R' 'L'\n",
      " 'L' 'L' 'R' 'L' 'L' 'R' 'R' 'L' 'L' 'L' 'R' 'R' 'L' 'L' 'L' 'L' 'R' 'L'\n",
      " 'L' 'L' 'R' 'L' 'R' 'R' 'L' 'L' 'R' 'L' 'L' 'L' 'R' 'R' 'R' 'R' 'R' 'R'\n",
      " 'L' 'R' 'R' 'R' 'L' 'R' 'L' 'R' 'L' 'R' 'R' 'L' 'L' 'L' 'L' 'L' 'R' 'L'\n",
      " 'L' 'L' 'R' 'L' 'L' 'R' 'R' 'R' 'R' 'R' 'L' 'L' 'R' 'L' 'L' 'L' 'L' 'L'\n",
      " 'L' 'L' 'R' 'R' 'R' 'L' 'L' 'R' 'L' 'L' 'L' 'R' 'R' 'L' 'L' 'R' 'R' 'R'\n",
      " 'L' 'R' 'L' 'R' 'L' 'L' 'L' 'L' 'L' 'L' 'R' 'R' 'R' 'L' 'R' 'L' 'R' 'R'\n",
      " 'R' 'R' 'R' 'L' 'R' 'R' 'R' 'L' 'L' 'L' 'L' 'R' 'R' 'L' 'R' 'L' 'L' 'R'\n",
      " 'R' 'L' 'R' 'R' 'R' 'L' 'R' 'L' 'L' 'R' 'L' 'R' 'L' 'L' 'L' 'L' 'R' 'L'\n",
      " 'R' 'R' 'L' 'R' 'L' 'R' 'R' 'L']\n"
     ]
    }
   ],
   "source": [
    "print(y_pred)\n",
    "print(y_pred_ig)"
   ]
  },
  {
   "cell_type": "markdown",
   "id": "9c3c92cf-b277-4d09-b896-d78b9ceec452",
   "metadata": {},
   "source": [
    "### We can now check the accuracy of each of the decision tree classifier criterion using the accuracy_score."
   ]
  },
  {
   "cell_type": "code",
   "execution_count": 37,
   "id": "109548f9-e928-4610-8437-360c856cb950",
   "metadata": {},
   "outputs": [
    {
     "name": "stdout",
     "output_type": "stream",
     "text": [
      "Accuracy of Gini Impurity model:  70.2127659574468\n",
      "Accuracy of Information Gain model:  68.08510638297872\n"
     ]
    }
   ],
   "source": [
    "print(\"Accuracy of Gini Impurity model: \", \n",
    "      accuracy_score(y_test, y_pred) * 100)\n",
    "print(\"Accuracy of Information Gain model: \", \n",
    "      accuracy_score(y_test, y_pred_ig) * 100)"
   ]
  }
 ],
 "metadata": {
  "kernelspec": {
   "display_name": "Python [conda env:base] *",
   "language": "python",
   "name": "conda-base-py"
  },
  "language_info": {
   "codemirror_mode": {
    "name": "ipython",
    "version": 3
   },
   "file_extension": ".py",
   "mimetype": "text/x-python",
   "name": "python",
   "nbconvert_exporter": "python",
   "pygments_lexer": "ipython3",
   "version": "3.13.5"
  }
 },
 "nbformat": 4,
 "nbformat_minor": 5
}
