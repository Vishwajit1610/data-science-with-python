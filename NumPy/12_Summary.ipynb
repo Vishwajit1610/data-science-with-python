{
 "cells": [
  {
   "cell_type": "markdown",
   "id": "afff38df-10da-4d46-843c-d0b68de3de21",
   "metadata": {},
   "source": [
    "## Summary\n",
    "#### The following table lists the commonly used methods and attributes involved in NumPy:\n",
    "\n",
    "**Method Definition**\n",
    "\n",
    "- array()\tCreation of a nd-array\n",
    "- arrange()\tCreation of a nd-array with step-size as one of the argument\n",
    "- linspace()\tCreation of a nd-array with number od values as one of the argument\n",
    "- reshape()\tChanging a nd-array into new-shape\n",
    "- copy()\tCreates of new nd-array without altering the original nd-array\n",
    "- hssplit()\tSplits a nd-array horizontally\n",
    "- vsplit()\tSplits a nd-array vertically\n",
    "- hstack()\tMerge a nd-array horizontally\n",
    "- vstack()\tMerge a nd-array into vertically\n",
    " \n",
    "**Attribute\tDefinition**\n",
    "\n",
    "- shape -> Returns the shape(number of rows and columns) of a nd-array.\n",
    "- size -> Returns the number of elements of a nd-array.\n",
    "- T -> Transpose of a nd-array."
   ]
  }
 ],
 "metadata": {
  "kernelspec": {
   "display_name": "Python [conda env:base] *",
   "language": "python",
   "name": "conda-base-py"
  },
  "language_info": {
   "codemirror_mode": {
    "name": "ipython",
    "version": 3
   },
   "file_extension": ".py",
   "mimetype": "text/x-python",
   "name": "python",
   "nbconvert_exporter": "python",
   "pygments_lexer": "ipython3",
   "version": "3.13.5"
  }
 },
 "nbformat": 4,
 "nbformat_minor": 5
}
