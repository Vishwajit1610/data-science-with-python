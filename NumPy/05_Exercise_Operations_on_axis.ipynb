{
 "cells": [
  {
   "cell_type": "markdown",
   "id": "f1c627c2-0426-4a0f-af92-8cdf4ec15c8c",
   "metadata": {},
   "source": [
    "#### Given a matrix mat of size 3 x 3. Find the maximum numbers from each row, say N1, N2 and N3. Result in a matrix by adding:  \n",
    "``` \n",
    "import numpy as np\n",
    "mat = np.array([[10,5,9],\n",
    "                [2,20,6],\n",
    "                [8,3,30]]).reshape(3,3)\n",
    "```\n",
    "**-N1 to the upper half elements of mat  \n",
    "-N2 to the main diagonal elements of mat  \n",
    "-N3 to the lower half elements of mat**"
   ]
  },
  {
   "cell_type": "code",
   "execution_count": 1,
   "id": "5172619a-6413-4cc9-9e99-6bea02edbc34",
   "metadata": {},
   "outputs": [],
   "source": [
    "import numpy as np"
   ]
  },
  {
   "cell_type": "code",
   "execution_count": 2,
   "id": "e61fd249-9d7e-4ea3-a349-4c6ed4a96710",
   "metadata": {},
   "outputs": [
    {
     "name": "stdout",
     "output_type": "stream",
     "text": [
      "[[10  5  9]\n",
      " [ 2 20  6]\n",
      " [ 8  3 30]]\n"
     ]
    }
   ],
   "source": [
    "mat = np.array([[10,5,9],\n",
    "                [2,20,6],\n",
    "                [8,3,30]]).reshape(3,3)\n",
    "print(mat)"
   ]
  },
  {
   "cell_type": "code",
   "execution_count": 3,
   "id": "283e9fae-56c0-4bd3-aa82-59d381e9a31e",
   "metadata": {},
   "outputs": [
    {
     "name": "stdout",
     "output_type": "stream",
     "text": [
      "10 20 30\n"
     ]
    }
   ],
   "source": [
    "N1, N2, N3 = np.max(mat, axis=1)\n",
    "print(N1, N2, N3)"
   ]
  },
  {
   "cell_type": "code",
   "execution_count": 4,
   "id": "5016cffe-1c64-4f7c-8f79-037a841ca91f",
   "metadata": {},
   "outputs": [],
   "source": [
    "upper = np.triu_indices(3, k=1)   # upper triangle (excluding diagonal)\n",
    "lower = np.tril_indices(3, k=-1)  # lower triangle (excluding diagonal)\n",
    "diag  = np.diag_indices(3)        # diagonal"
   ]
  },
  {
   "cell_type": "code",
   "execution_count": 5,
   "id": "0c15bbef-8eb7-4715-9eef-a7f87140e477",
   "metadata": {},
   "outputs": [
    {
     "name": "stdout",
     "output_type": "stream",
     "text": [
      "(array([0, 0, 1]), array([1, 2, 2]))\n",
      "(array([1, 2, 2]), array([0, 0, 1]))\n",
      "(array([0, 1, 2]), array([0, 1, 2]))\n"
     ]
    }
   ],
   "source": [
    "print(upper)\n",
    "print(lower)\n",
    "print(diag)"
   ]
  },
  {
   "cell_type": "code",
   "execution_count": 6,
   "id": "3965c04a-4508-4c3e-8da5-8d70c859209b",
   "metadata": {},
   "outputs": [],
   "source": [
    "res = mat.copy()\n",
    "res[upper] += N1   # add N1 to upper half\n",
    "res[diag]  += N2   # add N2 to diagonal\n",
    "res[lower] += N3   # add N3 to lower half"
   ]
  },
  {
   "cell_type": "code",
   "execution_count": 10,
   "id": "40a04d03-9f23-4edc-a5c2-56ce5b6595cd",
   "metadata": {},
   "outputs": [
    {
     "name": "stdout",
     "output_type": "stream",
     "text": [
      "[[30 15 19]\n",
      " [32 40 16]\n",
      " [38 33 50]]\n"
     ]
    }
   ],
   "source": [
    "print(res)"
   ]
  }
 ],
 "metadata": {
  "kernelspec": {
   "display_name": "Python [conda env:base] *",
   "language": "python",
   "name": "conda-base-py"
  },
  "language_info": {
   "codemirror_mode": {
    "name": "ipython",
    "version": 3
   },
   "file_extension": ".py",
   "mimetype": "text/x-python",
   "name": "python",
   "nbconvert_exporter": "python",
   "pygments_lexer": "ipython3",
   "version": "3.13.5"
  }
 },
 "nbformat": 4,
 "nbformat_minor": 5
}
