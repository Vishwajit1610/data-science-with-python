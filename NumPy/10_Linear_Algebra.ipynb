{
 "cells": [
  {
   "cell_type": "markdown",
   "id": "4f1cde4a-12f4-41ce-8f6b-2e12c3e1de52",
   "metadata": {},
   "source": [
    "# Linear Algebra Operations"
   ]
  },
  {
   "cell_type": "markdown",
   "id": "66f957f5-e630-44b1-9048-131c8910f8ad",
   "metadata": {},
   "source": [
    "## Numpy offers a separate module for linear algebra named linalg."
   ]
  },
  {
   "cell_type": "code",
   "execution_count": 37,
   "id": "3a2a1583-fe2e-4df5-8d54-95621cfef54c",
   "metadata": {},
   "outputs": [],
   "source": [
    "# Importing NumPy Module\n",
    "import numpy as np"
   ]
  },
  {
   "cell_type": "markdown",
   "id": "c36de3c1-d57e-4d67-85a5-4d72bb4d676c",
   "metadata": {},
   "source": [
    "**Initializing Matrices**"
   ]
  },
  {
   "cell_type": "code",
   "execution_count": 38,
   "id": "439ee510-6add-4003-acc8-775c17212460",
   "metadata": {},
   "outputs": [
    {
     "name": "stdout",
     "output_type": "stream",
     "text": [
      "[[0 1]\n",
      " [2 3]]\n"
     ]
    }
   ],
   "source": [
    "# Matrix 1 with 4 elements and (2,2) dimension.\n",
    "mat1 = np.arange(4).reshape(2,2)\n",
    "print(mat1)"
   ]
  },
  {
   "cell_type": "code",
   "execution_count": 39,
   "id": "acad022c-a9d8-484a-a69d-391b8210cea6",
   "metadata": {},
   "outputs": [
    {
     "name": "stdout",
     "output_type": "stream",
     "text": [
      "[[0 2]\n",
      " [4 6]]\n"
     ]
    }
   ],
   "source": [
    "# Matrix 2 with 4 elements with step = 2 and (2,2) dimension.\n",
    "mat2 = (np.arange(4)*2).reshape(2,2)\n",
    "print(mat2)"
   ]
  },
  {
   "cell_type": "code",
   "execution_count": 40,
   "id": "a2e113b5-f2fc-4eb8-bc7e-aad2fb204d16",
   "metadata": {},
   "outputs": [
    {
     "name": "stdout",
     "output_type": "stream",
     "text": [
      "[[0 3]\n",
      " [6 9]]\n"
     ]
    }
   ],
   "source": [
    "# Matrix 3 with 4 elements with step = 3 and (2,2) dimension.\n",
    "mat3 = (np.arange(4)*3).reshape(2,2)\n",
    "print(mat3)"
   ]
  },
  {
   "cell_type": "markdown",
   "id": "a59ac281-271c-4d85-a0fc-c2526459169a",
   "metadata": {},
   "source": [
    "## Performing multiple dot product in one go:"
   ]
  },
  {
   "cell_type": "markdown",
   "id": "99131dc6-bc95-4991-908a-36492c4658de",
   "metadata": {},
   "source": [
    "**Multiple dot product can be calculated just by passing the matrices as list into multi_dot function.**"
   ]
  },
  {
   "cell_type": "code",
   "execution_count": 41,
   "id": "f9c6ed17-9996-491e-8974-216ea6517ce1",
   "metadata": {},
   "outputs": [
    {
     "name": "stdout",
     "output_type": "stream",
     "text": [
      "[[ 36  66]\n",
      " [132 234]]\n"
     ]
    }
   ],
   "source": [
    "dot_product  = np.linalg.multi_dot( [mat1, mat2, mat3] )\n",
    "print(dot_product)"
   ]
  },
  {
   "cell_type": "markdown",
   "id": "2feb1798-03f1-453a-af7d-e9bf144b4440",
   "metadata": {},
   "source": [
    "## Consider a system of linear equation given below:"
   ]
  },
  {
   "cell_type": "markdown",
   "id": "34803753-d43f-4648-94fc-07b872479c74",
   "metadata": {},
   "source": [
    "$$\\begin{aligned} 3x + y &= 9 \\\\ x + 2y &= 8 \\end{aligned}$$"
   ]
  },
  {
   "cell_type": "markdown",
   "id": "b98ac747-5d9e-4ddb-8a5b-50ef6a56c4fc",
   "metadata": {},
   "source": [
    "**First we check if equation has a unique solution, if yes, we find inverse and rank of the matrix**"
   ]
  },
  {
   "cell_type": "code",
   "execution_count": 42,
   "id": "b398ccd1-9f24-47b7-a534-10968e7d1662",
   "metadata": {},
   "outputs": [],
   "source": [
    "# Initializing matrices\n",
    "a = np.array([[3, 1],[1, 2]])\n",
    "b = np.array([9, 8])"
   ]
  },
  {
   "cell_type": "markdown",
   "id": "5ee4b003-53d6-46cf-a247-300c1c599135",
   "metadata": {},
   "source": [
    "**Check if equation has unique solution.**"
   ]
  },
  {
   "cell_type": "code",
   "execution_count": 43,
   "id": "7c1f4896-aec4-4e9e-96ae-c2ed4832afd1",
   "metadata": {},
   "outputs": [
    {
     "name": "stdout",
     "output_type": "stream",
     "text": [
      "5.000000000000001\n"
     ]
    }
   ],
   "source": [
    "print(np.linalg.det(a))"
   ]
  },
  {
   "cell_type": "code",
   "execution_count": 44,
   "id": "84402ff7-c105-41b9-a1da-6c1efc339568",
   "metadata": {},
   "outputs": [
    {
     "name": "stdout",
     "output_type": "stream",
     "text": [
      "[2. 3.]\n"
     ]
    }
   ],
   "source": [
    "# Since det = 5 which is non-zero. Hence, we have unique solutions Finding unique solution\n",
    "print(np.linalg.solve(a, b))"
   ]
  },
  {
   "cell_type": "code",
   "execution_count": 45,
   "id": "bf609f64-6425-4197-9e67-1de903d06932",
   "metadata": {},
   "outputs": [
    {
     "name": "stdout",
     "output_type": "stream",
     "text": [
      "[[ 0.4 -0.2]\n",
      " [-0.2  0.6]]\n"
     ]
    }
   ],
   "source": [
    "# Calculating Inverse: Since, determinant is non-zero hence, matrix is invertible\n",
    "print(np.linalg.inv(a))"
   ]
  },
  {
   "cell_type": "code",
   "execution_count": 46,
   "id": "42013c07-a875-4316-b876-d2ace3fa6a63",
   "metadata": {},
   "outputs": [
    {
     "name": "stdout",
     "output_type": "stream",
     "text": [
      "2\n"
     ]
    }
   ],
   "source": [
    "# Calculating Rank of the matrix \n",
    "print(np.linalg.matrix_rank(a))"
   ]
  }
 ],
 "metadata": {
  "kernelspec": {
   "display_name": "Python [conda env:base] *",
   "language": "python",
   "name": "conda-base-py"
  },
  "language_info": {
   "codemirror_mode": {
    "name": "ipython",
    "version": 3
   },
   "file_extension": ".py",
   "mimetype": "text/x-python",
   "name": "python",
   "nbconvert_exporter": "python",
   "pygments_lexer": "ipython3",
   "version": "3.13.5"
  }
 },
 "nbformat": 4,
 "nbformat_minor": 5
}
