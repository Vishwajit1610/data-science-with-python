{
 "cells": [
  {
   "cell_type": "code",
   "execution_count": 1,
   "id": "1df43def-67e9-4060-8773-5183c3bef2be",
   "metadata": {},
   "outputs": [],
   "source": [
    "# Importing NumPy Module\n",
    "import numpy as np"
   ]
  },
  {
   "cell_type": "markdown",
   "id": "55ae343a-f915-43ea-b33c-3a7801f1df45",
   "metadata": {},
   "source": [
    "## Given two NumPy arrays arr1 = [25, 56, 12, 85, 34, 75] and arr2 = [42, 3, 86, 32, 856, 46], solve the following:"
   ]
  },
  {
   "cell_type": "markdown",
   "id": "e39d4e5d-559a-43bd-b26c-460ac5752452",
   "metadata": {},
   "source": [
    "**1. Create a new NumPy array Narr with the shape equal to arr1 filled with random values.**"
   ]
  },
  {
   "cell_type": "code",
   "execution_count": 3,
   "id": "9760ad50-be8c-4506-add5-0d347b7070e8",
   "metadata": {},
   "outputs": [],
   "source": [
    "arr1 = np.array([25, 56, 12, 85, 34, 75])\n",
    "arr2 = np.array([42, 3, 86, 32, 856, 46])"
   ]
  },
  {
   "cell_type": "code",
   "execution_count": 4,
   "id": "9e4b42b1-c02d-401f-a9d8-ed527f78a7c5",
   "metadata": {},
   "outputs": [
    {
     "name": "stdout",
     "output_type": "stream",
     "text": [
      "Arr1: [25 56 12 85 34 75]\n"
     ]
    }
   ],
   "source": [
    "print(\"Arr1:\",arr1)"
   ]
  },
  {
   "cell_type": "code",
   "execution_count": 5,
   "id": "66983152-af7e-43ab-8454-5d547306a2da",
   "metadata": {},
   "outputs": [
    {
     "name": "stdout",
     "output_type": "stream",
     "text": [
      "Arr2: [ 42   3  86  32 856  46]\n"
     ]
    }
   ],
   "source": [
    "print(\"Arr2:\",arr2)"
   ]
  },
  {
   "cell_type": "code",
   "execution_count": 13,
   "id": "37875761-6ca5-460f-8775-0d0e45052b8c",
   "metadata": {},
   "outputs": [
    {
     "name": "stdout",
     "output_type": "stream",
     "text": [
      "[9 9 4 3 9 7]\n"
     ]
    }
   ],
   "source": [
    "Narr = np.random.randint(1, 10, size=6)\n",
    "print(Narr)"
   ]
  },
  {
   "cell_type": "markdown",
   "id": "aaf796dc-42bf-4736-8e09-5438c252919c",
   "metadata": {},
   "source": [
    "**2. Permanently change the dtype of arr1 to complex.**"
   ]
  },
  {
   "cell_type": "code",
   "execution_count": 14,
   "id": "9e446b3b-ba6c-4c76-8489-fa8fbb6be549",
   "metadata": {},
   "outputs": [
    {
     "name": "stdout",
     "output_type": "stream",
     "text": [
      "complex128\n"
     ]
    }
   ],
   "source": [
    "arr1 = arr1.astype(complex)\n",
    "print(arr1.dtype)"
   ]
  },
  {
   "cell_type": "markdown",
   "id": "a2a3c22b-a65f-4727-a3c0-5cb2c72e17c8",
   "metadata": {},
   "source": [
    "**3. Transform arrays arr1 and arr2 into two matrices (arr1_mat and arr2_mat) of shape (2,3) and arrive at the solution of the following equation:**   \n",
    "$$\n",
    "\\frac{\\text{arr1\\_mat}^{2} - \\text{arr2\\_mat}^{2}}{\\text{arr1\\_mat} - \\text{arr2\\_mat}}\n",
    "$$\n"
   ]
  },
  {
   "cell_type": "code",
   "execution_count": 17,
   "id": "74cb1543-0a86-4edd-9747-62e401b24412",
   "metadata": {},
   "outputs": [],
   "source": [
    "arr1_mat = arr1.reshape(2,3)\n",
    "arr2_mat = arr2.reshape(2,3)"
   ]
  },
  {
   "cell_type": "code",
   "execution_count": 18,
   "id": "9ec98df6-2145-4662-a09c-09b16539a0b1",
   "metadata": {},
   "outputs": [
    {
     "name": "stdout",
     "output_type": "stream",
     "text": [
      "[[ 67.+0.j  59.+0.j  98.+0.j]\n",
      " [117.+0.j 890.+0.j 121.+0.j]]\n"
     ]
    }
   ],
   "source": [
    "result = arr1_mat + arr2_mat\n",
    "print(result)"
   ]
  }
 ],
 "metadata": {
  "kernelspec": {
   "display_name": "Python [conda env:base] *",
   "language": "python",
   "name": "conda-base-py"
  },
  "language_info": {
   "codemirror_mode": {
    "name": "ipython",
    "version": 3
   },
   "file_extension": ".py",
   "mimetype": "text/x-python",
   "name": "python",
   "nbconvert_exporter": "python",
   "pygments_lexer": "ipython3",
   "version": "3.13.5"
  }
 },
 "nbformat": 4,
 "nbformat_minor": 5
}
