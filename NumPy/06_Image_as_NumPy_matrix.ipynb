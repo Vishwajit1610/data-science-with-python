{
 "cells": [
  {
   "cell_type": "markdown",
   "id": "1fdf2c26-af88-4d79-ad93-f7976e47947d",
   "metadata": {},
   "source": [
    "## Image as NumPy Matrix"
   ]
  },
  {
   "cell_type": "code",
   "execution_count": 1,
   "id": "5e32dd5a-9e7e-43ca-adb6-923028ff8ef3",
   "metadata": {},
   "outputs": [],
   "source": [
    "import os.path\n",
    "from skimage.io import imread\n",
    "file_path = r\"D:\\CaseTern\\Coding\\Jupyter\\Python for Data Science\\NumPy\\img\\checker_bilevel.png\"\n",
    "img = imread(file_path)"
   ]
  },
  {
   "cell_type": "markdown",
   "id": "7bbfdefe-76fa-414b-ba1b-e86c582dbe0f",
   "metadata": {},
   "source": [
    "**1. Attributes: Since we're all set with our image, now we can observe commonly used NumPy object's attributes:**"
   ]
  },
  {
   "cell_type": "code",
   "execution_count": 2,
   "id": "08aa1e13-e7a8-41bd-ade9-e8012cc66f9b",
   "metadata": {},
   "outputs": [
    {
     "name": "stdout",
     "output_type": "stream",
     "text": [
      "<class 'numpy.ndarray'>\n"
     ]
    }
   ],
   "source": [
    "''' Image stored as numpy object (2D Matrix) '''\n",
    "print(type(img))"
   ]
  },
  {
   "cell_type": "code",
   "execution_count": 3,
   "id": "cee084cf-f06b-45e0-9450-0577cb7b9a98",
   "metadata": {},
   "outputs": [
    {
     "name": "stdout",
     "output_type": "stream",
     "text": [
      "2\n"
     ]
    }
   ],
   "source": [
    "''' Number of image dimensions '''\n",
    "print(img.ndim)"
   ]
  },
  {
   "cell_type": "code",
   "execution_count": 4,
   "id": "09d5f1ae-1f06-4cb1-9390-728b64d1f592",
   "metadata": {},
   "outputs": [
    {
     "name": "stdout",
     "output_type": "stream",
     "text": [
      "(10, 10)\n"
     ]
    }
   ],
   "source": [
    "''' Shape of the image (rows, columns) '''\n",
    "print(img.shape)"
   ]
  },
  {
   "cell_type": "code",
   "execution_count": 5,
   "id": "c1e69d1c-28ff-4e61-8b7a-16fad4b854d5",
   "metadata": {},
   "outputs": [
    {
     "name": "stdout",
     "output_type": "stream",
     "text": [
      "100\n"
     ]
    }
   ],
   "source": [
    "''' Number of total elements in the image '''\n",
    "print(img.size) "
   ]
  },
  {
   "cell_type": "code",
   "execution_count": 6,
   "id": "b53d1062-6a12-4f76-91ed-c6e8f8fa8056",
   "metadata": {},
   "outputs": [
    {
     "name": "stdout",
     "output_type": "stream",
     "text": [
      "1\n"
     ]
    }
   ],
   "source": [
    "''' Size of per element (in bytes) '''\n",
    "print(img.itemsize)"
   ]
  },
  {
   "cell_type": "code",
   "execution_count": 7,
   "id": "a68bf41c-0201-4b2f-bce1-3f531d808ec1",
   "metadata": {},
   "outputs": [
    {
     "name": "stdout",
     "output_type": "stream",
     "text": [
      "1\n"
     ]
    }
   ],
   "source": [
    "''' Size of per element (in bytes) '''\n",
    "print(img.itemsize)     # 1"
   ]
  },
  {
   "cell_type": "code",
   "execution_count": 8,
   "id": "6b067544-efe1-48f7-b45a-8ea4556f6426",
   "metadata": {},
   "outputs": [
    {
     "name": "stdout",
     "output_type": "stream",
     "text": [
      "100\n"
     ]
    }
   ],
   "source": [
    "''' Size of complete image (in bytes) '''\n",
    "print(img.nbytes)"
   ]
  },
  {
   "cell_type": "markdown",
   "id": "178cc88e-0a12-475a-9ce6-bb150b647e94",
   "metadata": {},
   "source": [
    "**2. Methods: We can perform listed operations using a direct NumPy matrix attribute and method(s) as listed:**"
   ]
  },
  {
   "cell_type": "code",
   "execution_count": 9,
   "id": "4ec9b429-295e-4f40-aa0c-37eb0e40fad8",
   "metadata": {},
   "outputs": [],
   "source": [
    "# Transpose\n",
    "img_t = img.T"
   ]
  },
  {
   "cell_type": "code",
   "execution_count": 10,
   "id": "44e93def-51fe-4023-b238-9f1686f6bd4c",
   "metadata": {},
   "outputs": [],
   "source": [
    "# Reshape\n",
    "img_reshape = img.reshape(5, 20)"
   ]
  },
  {
   "cell_type": "code",
   "execution_count": 11,
   "id": "63189a82-6870-44b2-9486-f937985f05b9",
   "metadata": {},
   "outputs": [],
   "source": [
    "# Sort\n",
    "img_srt = img.copy()\n",
    "img_srt.sort(axis = 0) "
   ]
  },
  {
   "cell_type": "code",
   "execution_count": 12,
   "id": "fd81c179-f735-49f0-9117-e272d05f46d8",
   "metadata": {},
   "outputs": [
    {
     "name": "stdout",
     "output_type": "stream",
     "text": [
      "(6, 10)\n"
     ]
    }
   ],
   "source": [
    "# Compression\n",
    "img_cmp = img.copy()\n",
    "img_cmp = img_cmp.compress([True,False,True,0,1,1,1,0,0,1],axis = 0)\n",
    "print(img_cmp.shape)"
   ]
  },
  {
   "cell_type": "markdown",
   "id": "5a93766d-db45-4266-8a90-94a351ec8253",
   "metadata": {},
   "source": [
    "### The images can be visualized using following code snippet -"
   ]
  },
  {
   "cell_type": "code",
   "execution_count": 13,
   "id": "7d64e299-ef0f-4f00-aa8c-99c360874dcb",
   "metadata": {},
   "outputs": [],
   "source": [
    "import matplotlib.pyplot as plt"
   ]
  },
  {
   "cell_type": "code",
   "execution_count": 14,
   "id": "d23b0253-a419-4221-bac5-aea9ff347e79",
   "metadata": {},
   "outputs": [
    {
     "data": {
      "text/plain": [
       "<matplotlib.image.AxesImage at 0x23d28de4c20>"
      ]
     },
     "execution_count": 14,
     "metadata": {},
     "output_type": "execute_result"
    },
    {
     "data": {
      "image/png": "[encoded data removed]",
      "text/plain": [
       "<Figure size 640x480 with 1 Axes>"
      ]
     },
     "metadata": {},
     "output_type": "display_data"
    }
   ],
   "source": [
    "plt.imshow(img, cmap = 'Greys') "
   ]
  },
  {
   "cell_type": "code",
   "execution_count": 15,
   "id": "4fce60e1-ab3d-479e-9a4c-7514420d534d",
   "metadata": {},
   "outputs": [
    {
     "data": {
      "text/plain": [
       "<matplotlib.image.AxesImage at 0x23d29f8d590>"
      ]
     },
     "execution_count": 15,
     "metadata": {},
     "output_type": "execute_result"
    },
    {
     "data": {
      "image/png": "[encoded data removed]",
      "text/plain": [
       "<Figure size 640x480 with 1 Axes>"
      ]
     },
     "metadata": {},
     "output_type": "display_data"
    }
   ],
   "source": [
    "plt.imshow(img_t, cmap = 'Greys') "
   ]
  }
 ],
 "metadata": {
  "kernelspec": {
   "display_name": "Python [conda env:base] *",
   "language": "python",
   "name": "conda-base-py"
  },
  "language_info": {
   "codemirror_mode": {
    "name": "ipython",
    "version": 3
   },
   "file_extension": ".py",
   "mimetype": "text/x-python",
   "name": "python",
   "nbconvert_exporter": "python",
   "pygments_lexer": "ipython3",
   "version": "3.13.5"
  }
 },
 "nbformat": 4,
 "nbformat_minor": 5
}
