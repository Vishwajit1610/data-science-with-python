{
 "cells": [
  {
   "cell_type": "markdown",
   "id": "beda47c3-0c5a-4b3e-b26b-feb1c392740c",
   "metadata": {},
   "source": [
    "# Exercise on Linear Algebra Calculations using NumPy"
   ]
  },
  {
   "cell_type": "code",
   "execution_count": 26,
   "id": "55cdf182-38e7-4e45-b6ae-42f82d40bdfd",
   "metadata": {},
   "outputs": [],
   "source": [
    "import numpy as np"
   ]
  },
  {
   "cell_type": "markdown",
   "id": "a2be0c76-94d2-4a7b-b2c3-b6201fe7cd9e",
   "metadata": {},
   "source": [
    "### Q. 1  Solve the following system of linear equations.\n",
    "$$\n",
    "\\begin{aligned} 2x + 3y + 2z &= 1 \\\\ x + 3z &= 2 \\\\ 2x + 2y + 3z &= 3 \\end{aligned}\n",
    "$$"
   ]
  },
  {
   "cell_type": "code",
   "execution_count": 27,
   "id": "164c33a3-e35d-4438-bd08-5214c4fe6e75",
   "metadata": {},
   "outputs": [],
   "source": [
    "a = np.array([[2, 3, 2], [1, 0, 3], [2, 2, 3]])\n",
    "b = np.array([1, 2, 3])"
   ]
  },
  {
   "cell_type": "code",
   "execution_count": 28,
   "id": "99954cd0-4510-4e1e-96e1-0ef3f883a191",
   "metadata": {},
   "outputs": [
    {
     "name": "stdout",
     "output_type": "stream",
     "text": [
      "[11. -5. -3.]\n"
     ]
    }
   ],
   "source": [
    "solved = np.linalg.solve(a, b)\n",
    "print(solved)"
   ]
  },
  {
   "cell_type": "markdown",
   "id": "4e1bba20-fc63-4ca6-938b-a48c8bed5215",
   "metadata": {},
   "source": [
    "### Q. 2 Multiply the following Matrices using methods available in numpy library.\n",
    "$$\n",
    "\\begin{bmatrix} 1 & 2 & 3 \\\\ 4 & 5 & 6 \\end{bmatrix} \\begin{bmatrix} 7 & 8 \\\\ 9 & 10 \\\\ 11 & 12 \\end{bmatrix}\n",
    "$$"
   ]
  },
  {
   "cell_type": "code",
   "execution_count": 29,
   "id": "5f794d68-8cd6-4212-90fc-194498b927d3",
   "metadata": {},
   "outputs": [
    {
     "name": "stdout",
     "output_type": "stream",
     "text": [
      "[[1 2 3]\n",
      " [4 5 6]]\n"
     ]
    }
   ],
   "source": [
    "mat1 = np.array([[1, 2, 3], [4, 5, 6]])\n",
    "print(mat1)"
   ]
  },
  {
   "cell_type": "code",
   "execution_count": 30,
   "id": "125de953-535c-4d24-a095-80da4af055ce",
   "metadata": {},
   "outputs": [
    {
     "name": "stdout",
     "output_type": "stream",
     "text": [
      "[[ 7  8]\n",
      " [ 9 10]\n",
      " [11 12]]\n"
     ]
    }
   ],
   "source": [
    "mat2 = np.array([7, 8, 9, 10, 11, 12]).reshape(3,2)\n",
    "print(mat2)"
   ]
  },
  {
   "cell_type": "code",
   "execution_count": 31,
   "id": "9515016e-1ac6-44d6-87f7-325874c88968",
   "metadata": {},
   "outputs": [
    {
     "name": "stdout",
     "output_type": "stream",
     "text": [
      "[[ 58  64]\n",
      " [139 154]]\n"
     ]
    }
   ],
   "source": [
    "# Since number of columns in mat1 = number of rows in mat2. Therefore, Matrix multiplication is possible.\n",
    "multi_mat = np.matmul(mat1, mat2)\n",
    "print(multi_mat)"
   ]
  },
  {
   "cell_type": "markdown",
   "id": "09d7854c-2b94-4ed0-acff-b3e921f207ec",
   "metadata": {},
   "source": [
    "### Q. 3 A system of linear equations is said to have a unique solution if the determinant of the co-efficient matrix is not Zero. Verify the existence of a unique solution for the following system of linear equations.\n",
    "$$\n",
    "\\begin{aligned} -4x + 10y &= 6 \\\\ 2x - 5y &= 3 \\end{aligned}\n",
    "$$"
   ]
  },
  {
   "cell_type": "code",
   "execution_count": 32,
   "id": "6f68f8db-e61b-4035-a162-dd3eab8f3e59",
   "metadata": {},
   "outputs": [
    {
     "name": "stdout",
     "output_type": "stream",
     "text": [
      "[[-4 10]\n",
      " [ 2 -5]]\n"
     ]
    }
   ],
   "source": [
    "mat_a = np.array([[-4, 10], [2, -5]])\n",
    "print(mat_a)"
   ]
  },
  {
   "cell_type": "code",
   "execution_count": 33,
   "id": "7366269d-61ac-4aa0-9808-cefe2f24100e",
   "metadata": {},
   "outputs": [
    {
     "name": "stdout",
     "output_type": "stream",
     "text": [
      "[6 3]\n"
     ]
    }
   ],
   "source": [
    "mat_b = np.array([6,3])\n",
    "print(mat_b)"
   ]
  },
  {
   "cell_type": "code",
   "execution_count": 34,
   "id": "70f71225-a754-4086-8faf-b6b5e73e0b89",
   "metadata": {},
   "outputs": [
    {
     "name": "stdout",
     "output_type": "stream",
     "text": [
      "0.0\n"
     ]
    }
   ],
   "source": [
    "det = np.linalg.det(mat_a)\n",
    "print(det)"
   ]
  },
  {
   "cell_type": "markdown",
   "id": "51d87f51-4d4e-4533-b195-b6854b5392bf",
   "metadata": {},
   "source": [
    "**Since the determinant is 0, the system of linear equations does not have a unique solution.**"
   ]
  }
 ],
 "metadata": {
  "kernelspec": {
   "display_name": "Python [conda env:base] *",
   "language": "python",
   "name": "conda-base-py"
  },
  "language_info": {
   "codemirror_mode": {
    "name": "ipython",
    "version": 3
   },
   "file_extension": ".py",
   "mimetype": "text/x-python",
   "name": "python",
   "nbconvert_exporter": "python",
   "pygments_lexer": "ipython3",
   "version": "3.13.5"
  }
 },
 "nbformat": 4,
 "nbformat_minor": 5
}
