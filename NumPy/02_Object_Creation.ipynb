{
 "cells": [
  {
   "cell_type": "code",
   "execution_count": 2,
   "id": "ff7cae6c-493d-4b0e-a242-fe106aba107a",
   "metadata": {},
   "outputs": [],
   "source": [
    "# Importing NumPy Module\n",
    "import numpy as np"
   ]
  },
  {
   "cell_type": "markdown",
   "id": "9e5ae58b-a3a0-4aa5-9b46-25ece80953f5",
   "metadata": {},
   "source": [
    "### Creation of an array with step size 1.33 between 0 - 10"
   ]
  },
  {
   "cell_type": "markdown",
   "id": "d6903b36-1df5-43ac-90c9-63cfbf49680d",
   "metadata": {},
   "source": [
    "**arange() gives uncertain number of values based on steps**"
   ]
  },
  {
   "cell_type": "code",
   "execution_count": 16,
   "id": "89ac80f1-cc3b-46dd-ab51-78a4b8820d4c",
   "metadata": {},
   "outputs": [
    {
     "name": "stdout",
     "output_type": "stream",
     "text": [
      "[0.        1.33      2.66      3.9900002 5.32      6.65      7.9800005\n",
      " 9.31     ]\n"
     ]
    }
   ],
   "source": [
    "print(np.arange(0, 10, 1.33, dtype=np.float32))"
   ]
  },
  {
   "cell_type": "markdown",
   "id": "21e6d73e-832e-4e18-a7de-8814be8243c3",
   "metadata": {},
   "source": [
    "### Creation of an array with total 5 values between 0 - 160"
   ]
  },
  {
   "cell_type": "markdown",
   "id": "6d1eab3a-05d1-497c-942e-648cc0adf0ba",
   "metadata": {},
   "source": [
    "**we use linspace(), which asks for total number of values**"
   ]
  },
  {
   "cell_type": "code",
   "execution_count": 22,
   "id": "ec6959e7-f2db-434b-9d10-f1bed54a1c99",
   "metadata": {},
   "outputs": [
    {
     "name": "stdout",
     "output_type": "stream",
     "text": [
      "[  0.  40.  80. 120. 160.]\n"
     ]
    }
   ],
   "source": [
    "print(np.linspace(0, 160, 5, dtype=np.float64))"
   ]
  },
  {
   "cell_type": "markdown",
   "id": "d733e30a-f0af-48ef-9cda-72d209d1b609",
   "metadata": {},
   "source": [
    "# Reshaping Array"
   ]
  },
  {
   "cell_type": "markdown",
   "id": "11aef87d-92f1-4b27-90a9-396c459837f3",
   "metadata": {},
   "source": [
    "### Method I: Using array() and reshape() to convert array into matrix"
   ]
  },
  {
   "cell_type": "code",
   "execution_count": 23,
   "id": "d01829c2-d5fd-4d89-b046-c8bb8bddacf9",
   "metadata": {},
   "outputs": [
    {
     "name": "stdout",
     "output_type": "stream",
     "text": [
      "[[ 5  6  8]\n",
      " [45 12 52]]\n"
     ]
    }
   ],
   "source": [
    "print(np.array([5,6,8,45,12,52]).reshape(2,3))"
   ]
  },
  {
   "cell_type": "markdown",
   "id": "73a299bf-6a53-4e40-80bc-90bdbca8cc40",
   "metadata": {},
   "source": [
    "### Method II: Using matrix() function\n",
    "**NOTE: The np.matrix object is a legacy data structure. Its use is strongly discouraged in modern NumPy code. It behaves differently from NumPy arrays leading to confusing and inconsistent code. The professional standard is to use 2D np.ndarray for all matrix operations.**"
   ]
  },
  {
   "cell_type": "code",
   "execution_count": 26,
   "id": "581ecbb6-70d4-4271-9d2b-a61b39b59359",
   "metadata": {},
   "outputs": [
    {
     "name": "stdout",
     "output_type": "stream",
     "text": [
      "[[1 2 3]\n",
      " [5 6 8]\n",
      " [1 4 2]]\n"
     ]
    }
   ],
   "source": [
    "print(np.matrix([[1,2,3],\n",
    "                [5,6,8],\n",
    "                [1,4,2]]))"
   ]
  },
  {
   "cell_type": "markdown",
   "id": "cf6bfc40-b3fe-4a30-870c-341b00d3ee21",
   "metadata": {},
   "source": [
    "### Method III: Using misc. functions"
   ]
  },
  {
   "cell_type": "markdown",
   "id": "cedb8f43-d5a4-40e1-8544-43bd63213a47",
   "metadata": {},
   "source": [
    "**Identity matrix**"
   ]
  },
  {
   "cell_type": "code",
   "execution_count": 27,
   "id": "c50bab27-a0de-465a-9520-ea737ac7fbf0",
   "metadata": {},
   "outputs": [
    {
     "name": "stdout",
     "output_type": "stream",
     "text": [
      "[[1. 0. 0.]\n",
      " [0. 1. 0.]\n",
      " [0. 0. 1.]]\n"
     ]
    }
   ],
   "source": [
    "print(np.eye(3))"
   ]
  },
  {
   "cell_type": "markdown",
   "id": "f76c1f23-706d-4a2d-8322-c87db276f4b0",
   "metadata": {},
   "source": [
    "**Zeros Matrix**"
   ]
  },
  {
   "cell_type": "code",
   "execution_count": 34,
   "id": "73daede6-2240-4291-aa16-99d1726ddb56",
   "metadata": {},
   "outputs": [
    {
     "name": "stdout",
     "output_type": "stream",
     "text": [
      "[[0. 0. 0.]]\n"
     ]
    }
   ],
   "source": [
    "print(np.zeros((1,3)))"
   ]
  },
  {
   "cell_type": "markdown",
   "id": "f0d8b913-a0b3-496d-be67-fe646dc5a51b",
   "metadata": {},
   "source": [
    "**Ones Matrix**"
   ]
  },
  {
   "cell_type": "code",
   "execution_count": 36,
   "id": "c188feeb-8801-4ac6-bfce-5053bf3bfa45",
   "metadata": {},
   "outputs": [
    {
     "name": "stdout",
     "output_type": "stream",
     "text": [
      "[[1. 1. 1.]\n",
      " [1. 1. 1.]]\n"
     ]
    }
   ],
   "source": [
    "print(np.ones((2,3)))"
   ]
  },
  {
   "cell_type": "code",
   "execution_count": null,
   "id": "74df9506-b434-4211-91f9-c45b788e9856",
   "metadata": {},
   "outputs": [],
   "source": []
  }
 ],
 "metadata": {
  "kernelspec": {
   "display_name": "Python [conda env:base] *",
   "language": "python",
   "name": "conda-base-py"
  },
  "language_info": {
   "codemirror_mode": {
    "name": "ipython",
    "version": 3
   },
   "file_extension": ".py",
   "mimetype": "text/x-python",
   "name": "python",
   "nbconvert_exporter": "python",
   "pygments_lexer": "ipython3",
   "version": "3.13.5"
  }
 },
 "nbformat": 4,
 "nbformat_minor": 5
}
