{
 "cells": [
  {
   "cell_type": "markdown",
   "id": "18babf17-4934-4e2e-abf0-c865cae84934",
   "metadata": {},
   "source": [
    "## Initializing Array using NumPy"
   ]
  },
  {
   "cell_type": "code",
   "execution_count": 7,
   "id": "f6559a4d-cd76-465a-a344-1d7985c4c25c",
   "metadata": {},
   "outputs": [],
   "source": [
    "# Importing NumPy Module\n",
    "import numpy as np"
   ]
  },
  {
   "cell_type": "markdown",
   "id": "ebff0c98-c3c1-4470-9b57-608d536b4833",
   "metadata": {},
   "source": [
    "**Converting a List to a Array**"
   ]
  },
  {
   "cell_type": "code",
   "execution_count": 2,
   "id": "0e0d048e-6b8e-4690-a731-a10a74a1afcc",
   "metadata": {},
   "outputs": [
    {
     "name": "stdout",
     "output_type": "stream",
     "text": [
      "[5, 10, 15, 20]\n"
     ]
    }
   ],
   "source": [
    "myList = [5, 10, 15, 20]\n",
    "print(myList)"
   ]
  },
  {
   "cell_type": "code",
   "execution_count": 8,
   "id": "3a9a016b-ac14-4c16-89a0-e13b8e43f1c8",
   "metadata": {},
   "outputs": [
    {
     "name": "stdout",
     "output_type": "stream",
     "text": [
      "[ 5 10 15 20]\n"
     ]
    }
   ],
   "source": [
    "arr = np.array(myList)\n",
    "print(arr)"
   ]
  },
  {
   "cell_type": "markdown",
   "id": "96065e0f-1297-4e49-9043-55e6263d3db1",
   "metadata": {},
   "source": [
    "**Checking DataType of the numpy array which was converted from a List.**"
   ]
  },
  {
   "cell_type": "code",
   "execution_count": 13,
   "id": "fcb9a788-65ea-4505-87b3-70e3aa77c1d9",
   "metadata": {},
   "outputs": [
    {
     "name": "stdout",
     "output_type": "stream",
     "text": [
      "[1, 2, 3, 'text', True, (3+2j)]\n"
     ]
    }
   ],
   "source": [
    "myList_2 = [1, 2, 3, 'text', True, 3+2j] \n",
    "print(myList_2)"
   ]
  },
  {
   "cell_type": "code",
   "execution_count": 14,
   "id": "086a149a-e750-4646-b434-049c22966af0",
   "metadata": {},
   "outputs": [
    {
     "name": "stdout",
     "output_type": "stream",
     "text": [
      "<class 'numpy.str_'> <class 'numpy.str_'> <class 'numpy.str_'> <class 'numpy.str_'>\n"
     ]
    }
   ],
   "source": [
    "arr_2 = np.array(myList_2)\n",
    "print(type(arr_2[0]), type(arr_2[3]), type(arr_2[4]), type(arr_2[5]))"
   ]
  },
  {
   "cell_type": "markdown",
   "id": "6a463a6a-a961-4725-a28f-b32b22619421",
   "metadata": {},
   "source": [
    "**Note: When creating a NumPy array from a list with mixed data types, NumPy scans the elements to find the most general data type that can represent all of them without losing information. This process is called upcasting.**  \n",
    "**- A list like `[1, 2.5, True]` will be upcast to an array of `float64`, as float is more general than integer or boolean.**  \n",
    "**- A list containing a string, like `[1, 2.5, 'text']`, will be upcast to a string `dtype` (e.g., `<U32>`), because only a string can faithfully represent all three original elements.**"
   ]
  },
  {
   "cell_type": "markdown",
   "id": "7e8af175-7542-434b-b576-56d285d693e1",
   "metadata": {},
   "source": [
    "**Checking Size of Array**"
   ]
  },
  {
   "cell_type": "code",
   "execution_count": 15,
   "id": "6c83c254-f4f9-4939-bd07-c16c56618052",
   "metadata": {},
   "outputs": [
    {
     "name": "stdout",
     "output_type": "stream",
     "text": [
      "32\n"
     ]
    }
   ],
   "source": [
    "print(arr.nbytes)"
   ]
  },
  {
   "cell_type": "code",
   "execution_count": null,
   "id": "69dad356-870d-4217-9610-8f56468b604a",
   "metadata": {},
   "outputs": [],
   "source": []
  }
 ],
 "metadata": {
  "kernelspec": {
   "display_name": "Python [conda env:base] *",
   "language": "python",
   "name": "conda-base-py"
  },
  "language_info": {
   "codemirror_mode": {
    "name": "ipython",
    "version": 3
   },
   "file_extension": ".py",
   "mimetype": "text/x-python",
   "name": "python",
   "nbconvert_exporter": "python",
   "pygments_lexer": "ipython3",
   "version": "3.13.5"
  }
 },
 "nbformat": 4,
 "nbformat_minor": 5
}
