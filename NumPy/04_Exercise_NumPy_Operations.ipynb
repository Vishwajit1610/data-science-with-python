{
 "cells": [
  {
   "cell_type": "code",
   "execution_count": 17,
   "id": "3c855c95-f8ad-4ba5-a2be-c8a0f4d4e7f1",
   "metadata": {},
   "outputs": [],
   "source": [
    "# Importing NumPy Module \n",
    "import numpy as np"
   ]
  },
  {
   "cell_type": "markdown",
   "id": "309bb3f5-5dd2-4316-b393-eb5cfb2e4b91",
   "metadata": {},
   "source": [
    "### 1. Create a 4 x 4 matrix and add values 4,5,6 above the parent diagonal."
   ]
  },
  {
   "cell_type": "code",
   "execution_count": 22,
   "id": "acd5a5ab-28db-45d0-9803-1e8f6036c92a",
   "metadata": {},
   "outputs": [
    {
     "name": "stdout",
     "output_type": "stream",
     "text": [
      "[[0. 0. 0. 0.]\n",
      " [0. 0. 0. 0.]\n",
      " [0. 0. 0. 0.]\n",
      " [0. 0. 0. 0.]]\n"
     ]
    }
   ],
   "source": [
    "arr = np.zeros((4,4))\n",
    "print(arr)"
   ]
  },
  {
   "cell_type": "markdown",
   "id": "11f03be5-8a46-44ca-9cef-ac4ca7ca448e",
   "metadata": {},
   "source": [
    "**We use the np.diag((values), k=something) function which is used to construct a 2D array with a given 1D array on a specified diagonal.  \n",
    "The k argument controls the offset.  \n",
    "k=0 (default) for the main diagonal.  \n",
    "k > 0 for diagonals above the main diagonal.  \n",
    "k < 0 for diagonals below the main diagonal.  \n",
    "NOTE: It creates a new 4×4-like matrix with 4, 5, 6 above the main diagonal -> but it doesn’t modify your existing arr.**"
   ]
  },
  {
   "cell_type": "code",
   "execution_count": 24,
   "id": "aa147fe1-af3d-4495-a088-629901e669d4",
   "metadata": {},
   "outputs": [
    {
     "name": "stdout",
     "output_type": "stream",
     "text": [
      "[[0 4 0 0]\n",
      " [0 0 5 0]\n",
      " [0 0 0 6]\n",
      " [0 0 0 0]]\n"
     ]
    }
   ],
   "source": [
    "arr = np.diag((4,5,6), k=1)\n",
    "print(arr)"
   ]
  },
  {
   "cell_type": "markdown",
   "id": "bbe5c0a3-a1de-48a4-9254-a6e79506bf43",
   "metadata": {},
   "source": [
    "### 2. Given a Numpy array arr1 = np.arange(11), negate all the elements between 6 and 10."
   ]
  },
  {
   "cell_type": "code",
   "execution_count": 36,
   "id": "0535d2a6-97f2-4077-b46a-2ac0b1847faa",
   "metadata": {},
   "outputs": [
    {
     "name": "stdout",
     "output_type": "stream",
     "text": [
      "[ 0  1  2  3  4  5  6  7  8  9 10]\n"
     ]
    }
   ],
   "source": [
    "arr1 = np.arange(11)\n",
    "print(arr1)"
   ]
  },
  {
   "cell_type": "markdown",
   "id": "0b70367f-d40e-4c87-96b5-3fda1d9abc69",
   "metadata": {},
   "source": [
    "**We use conditional masking method to do this.**"
   ]
  },
  {
   "cell_type": "code",
   "execution_count": 37,
   "id": "caaa1d32-16a6-4adc-b31e-285e3a9e757c",
   "metadata": {},
   "outputs": [
    {
     "name": "stdout",
     "output_type": "stream",
     "text": [
      "[False False False False False False  True  True  True  True  True]\n"
     ]
    }
   ],
   "source": [
    "mask = ((arr1 >= 6) & (arr1 <= 10))\n",
    "print(mask)"
   ]
  },
  {
   "cell_type": "code",
   "execution_count": 38,
   "id": "36e4bfab-ccd2-443f-8ff5-b6f3b73635e1",
   "metadata": {},
   "outputs": [
    {
     "name": "stdout",
     "output_type": "stream",
     "text": [
      "[ 6  7  8  9 10]\n"
     ]
    }
   ],
   "source": [
    "print(arr1[mask])"
   ]
  },
  {
   "cell_type": "markdown",
   "id": "4755cfc6-a2c4-495a-82ca-3866517eb725",
   "metadata": {},
   "source": [
    "**Now to Negate the Masked Values**"
   ]
  },
  {
   "cell_type": "code",
   "execution_count": 41,
   "id": "5dc6b2d0-8405-41f7-9558-410825923246",
   "metadata": {},
   "outputs": [
    {
     "name": "stdout",
     "output_type": "stream",
     "text": [
      "[  0   1   2   3   4   5  -6  -7  -8  -9 -10]\n"
     ]
    }
   ],
   "source": [
    "arr1[mask] = -(arr1[mask])\n",
    "print(arr1)"
   ]
  },
  {
   "cell_type": "markdown",
   "id": "33af1032-4bd1-4912-9346-8ebb1bbabfc1",
   "metadata": {},
   "source": [
    "### 3. Given a matrix mat and an array arr, for each row of the matrix if elements of Column 1 are equal to the corresponding element of the array, then print the corresponding value of Column 2 of the matrix.\n",
    "```\n",
    "import numpy as np\n",
    "mat = np.array([['abc','A'],['def','B'],['ghi','C'],['jkl','D']])\n",
    "arr = np.array(['abc','dfe','ghi','kjl']) \n",
    "```\n",
    " \n"
   ]
  },
  {
   "cell_type": "code",
   "execution_count": 102,
   "id": "18e3edd9-17c5-4c65-aca9-2320be039c5e",
   "metadata": {},
   "outputs": [
    {
     "name": "stdout",
     "output_type": "stream",
     "text": [
      "[['abc' 'A']\n",
      " ['def' 'B']\n",
      " ['ghi' 'C']\n",
      " ['jkl' 'D']]\n",
      "['abc' 'dfe' 'ghi' 'kjl']\n"
     ]
    }
   ],
   "source": [
    "mat = np.array([['abc','A'],['def','B'],['ghi','C'],['jkl','D']])\n",
    "arr = np.array(['abc','dfe','ghi','kjl']) \n",
    "print(mat)\n",
    "print(arr)"
   ]
  },
  {
   "cell_type": "markdown",
   "id": "3bf1017e-0f2f-4641-b011-42ff30ca3d6e",
   "metadata": {},
   "source": [
    "**Using a simple np.isin() funtion**"
   ]
  },
  {
   "cell_type": "code",
   "execution_count": 103,
   "id": "683910b4-37f3-48be-be69-383471ed921b",
   "metadata": {},
   "outputs": [
    {
     "name": "stdout",
     "output_type": "stream",
     "text": [
      "['A' 'C']\n"
     ]
    }
   ],
   "source": [
    "result = mat[np.isin(mat[:, 0], arr), 1]\n",
    "print(result)"
   ]
  },
  {
   "cell_type": "markdown",
   "id": "12f209e6-5cfb-40ca-b025-0d0421ab25cb",
   "metadata": {},
   "source": [
    "### 4. Given a matrix mat, sort it by the second column.\n",
    "```\n",
    "import numpy as np\n",
    "mat1 = np.array([[1,21,3],[5,4,2],[56,12,4]])\n",
    "```"
   ]
  },
  {
   "cell_type": "code",
   "execution_count": 66,
   "id": "d583bb7a-f8da-4df2-aad2-a822ba819a08",
   "metadata": {},
   "outputs": [
    {
     "name": "stdout",
     "output_type": "stream",
     "text": [
      "[[ 1 21  3]\n",
      " [ 5  4  2]\n",
      " [56 12  4]]\n"
     ]
    }
   ],
   "source": [
    "mat1 = np.array([[1,21,3],[5,4,2],[56,12,4]])\n",
    "print(mat1)"
   ]
  },
  {
   "cell_type": "markdown",
   "id": "5ffe4e1b-2ee5-4393-a934-47c81ce79848",
   "metadata": {},
   "source": [
    "**Using np.argsort() function**"
   ]
  },
  {
   "cell_type": "code",
   "execution_count": 67,
   "id": "39960186-f357-49cf-ab01-f3730d295f68",
   "metadata": {},
   "outputs": [
    {
     "name": "stdout",
     "output_type": "stream",
     "text": [
      "[[ 5  4  2]\n",
      " [56 12  4]\n",
      " [ 1 21  3]]\n"
     ]
    }
   ],
   "source": [
    "order = np.argsort(mat1[:,1])\n",
    "mat1_sorted = mat1[order]\n",
    "print(mat1_sorted)"
   ]
  },
  {
   "cell_type": "markdown",
   "id": "fb028fbe-f18a-47e0-8499-003bbb1c5897",
   "metadata": {},
   "source": [
    "### 5. Given an array arr, find the top 4 maximum values.\n",
    "``` \n",
    "import numpy as np\n",
    "arr2 = np.array([90, 14, 24, 13, 13, 590, 0, 45, 16, 50])\n",
    "```"
   ]
  },
  {
   "cell_type": "code",
   "execution_count": 88,
   "id": "6ed79794-19a5-46c9-8606-bc5612372011",
   "metadata": {},
   "outputs": [
    {
     "name": "stdout",
     "output_type": "stream",
     "text": [
      "[ 90  14  24  13  13 590   0  45  16  50]\n"
     ]
    }
   ],
   "source": [
    "arr2 = np.array([90, 14, 24, 13, 13, 590, 0, 45, 16, 50])\n",
    "print(arr2)"
   ]
  },
  {
   "cell_type": "markdown",
   "id": "2e234141-4bd9-49c4-9355-1fa0b35099c7",
   "metadata": {},
   "source": [
    "**Using argpartition()**"
   ]
  },
  {
   "cell_type": "code",
   "execution_count": 91,
   "id": "bfba5847-e52e-46b3-8aa2-26e00b0c0c7f",
   "metadata": {},
   "outputs": [
    {
     "name": "stdout",
     "output_type": "stream",
     "text": [
      "[7 9 0 5]\n"
     ]
    }
   ],
   "source": [
    "indices = np.argpartition(arr2, -4)[-4:]\n",
    "print(indices)"
   ]
  },
  {
   "cell_type": "code",
   "execution_count": 92,
   "id": "55e9f5f6-6afe-4471-9270-e7d7dec7c626",
   "metadata": {},
   "outputs": [
    {
     "name": "stdout",
     "output_type": "stream",
     "text": [
      "[ 45  50  90 590]\n"
     ]
    }
   ],
   "source": [
    "top_4 = arr2[indices] \n",
    "print(np.sort(top_4))"
   ]
  },
  {
   "cell_type": "markdown",
   "id": "a7bf5085-d9a1-4f7d-b453-71ab1f7ad522",
   "metadata": {},
   "source": [
    "### 6. Find the nearest number from the given number in an array.\n",
    "```\n",
    "arr3 = np.array([10,55,22,3,6,44,9,54])\n",
    "nearest_to = 50\n",
    "```"
   ]
  },
  {
   "cell_type": "code",
   "execution_count": 93,
   "id": "7b8bc669-c06e-4d70-a4ff-9ec87ec1a11d",
   "metadata": {},
   "outputs": [
    {
     "name": "stdout",
     "output_type": "stream",
     "text": [
      "[10 55 22  3  6 44  9 54]\n"
     ]
    }
   ],
   "source": [
    "arr3 = np.array([10,55,22,3,6,44,9,54])\n",
    "print(arr3)"
   ]
  },
  {
   "cell_type": "markdown",
   "id": "5fbcda7b-5bf8-427b-ad0f-5203784fd796",
   "metadata": {},
   "source": [
    "**First, we calculate the difference between each array element and the target number. Second, we take the absolute value of these differences to find the true distances. Finally, we use np.argmin() to get the index of the minimum distance, which allows us to retrieve the corresponding number from the original array.**"
   ]
  },
  {
   "cell_type": "code",
   "execution_count": 96,
   "id": "3b9935e1-5cd3-4798-bfc5-745c3d062487",
   "metadata": {},
   "outputs": [
    {
     "name": "stdout",
     "output_type": "stream",
     "text": [
      "[40  5 28 47 44  6 41  4]\n"
     ]
    }
   ],
   "source": [
    "nearest_to = 50\n",
    "abs_difference = np.abs(arr3 - nearest_to)\n",
    "print(abs_difference)"
   ]
  },
  {
   "cell_type": "code",
   "execution_count": 98,
   "id": "265f2883-1d10-4bf1-bcb1-b4d9a5f4d2d3",
   "metadata": {},
   "outputs": [
    {
     "name": "stdout",
     "output_type": "stream",
     "text": [
      "7\n"
     ]
    }
   ],
   "source": [
    "min_dis = np.argmin(abs_difference)\n",
    "print(min_dis)"
   ]
  },
  {
   "cell_type": "code",
   "execution_count": 100,
   "id": "f3264057-29c7-4257-b463-7545acdcdf9e",
   "metadata": {},
   "outputs": [
    {
     "name": "stdout",
     "output_type": "stream",
     "text": [
      "54\n"
     ]
    }
   ],
   "source": [
    "result = arr3[min_dis]\n",
    "print(result)"
   ]
  },
  {
   "cell_type": "code",
   "execution_count": null,
   "id": "9710c01b-370a-4dea-b823-d9a50acbd6d5",
   "metadata": {},
   "outputs": [],
   "source": []
  }
 ],
 "metadata": {
  "kernelspec": {
   "display_name": "Python [conda env:base] *",
   "language": "python",
   "name": "conda-base-py"
  },
  "language_info": {
   "codemirror_mode": {
    "name": "ipython",
    "version": 3
   },
   "file_extension": ".py",
   "mimetype": "text/x-python",
   "name": "python",
   "nbconvert_exporter": "python",
   "pygments_lexer": "ipython3",
   "version": "3.13.5"
  }
 },
 "nbformat": 4,
 "nbformat_minor": 5
}
