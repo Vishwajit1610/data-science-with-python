{
 "cells": [
  {
   "cell_type": "markdown",
   "id": "309bb3f5-5dd2-4316-b393-eb5cfb2e4b91",
   "metadata": {},
   "source": [
    "### 1. Create a 4 x 4 matrix and add values 4,5,6 above the parent diagonal."
   ]
  },
  {
   "cell_type": "code",
   "execution_count": null,
   "id": "acd5a5ab-28db-45d0-9803-1e8f6036c92a",
   "metadata": {},
   "outputs": [],
   "source": []
  },
  {
   "cell_type": "markdown",
   "id": "bbe5c0a3-a1de-48a4-9254-a6e79506bf43",
   "metadata": {},
   "source": [
    "### 2. Given a Numpy array arr = np.arange(11), negate all the elements between 6 and 10."
   ]
  },
  {
   "cell_type": "code",
   "execution_count": null,
   "id": "0535d2a6-97f2-4077-b46a-2ac0b1847faa",
   "metadata": {},
   "outputs": [],
   "source": []
  },
  {
   "cell_type": "markdown",
   "id": "33af1032-4bd1-4912-9346-8ebb1bbabfc1",
   "metadata": {},
   "source": [
    "### 3. Given a matrix mat and an array arr, for each row of the matrix if elements of Column 1 are equal to the corresponding element of the array, then print the corresponding value of Column 2 of the matrix.\n",
    "```\n",
    "import numpy as np\n",
    "mat = np.array([['abc','A'],['def','B'],['ghi','C'],['jkl','D']])\n",
    "arr = np.array(['abc','dfe','ghi','kjl']) \n",
    "```\n",
    " \n"
   ]
  },
  {
   "cell_type": "code",
   "execution_count": null,
   "id": "18e3edd9-17c5-4c65-aca9-2320be039c5e",
   "metadata": {},
   "outputs": [],
   "source": []
  },
  {
   "cell_type": "markdown",
   "id": "12f209e6-5cfb-40ca-b025-0d0421ab25cb",
   "metadata": {},
   "source": [
    "### 4. Given a matrix mat, sort it by the second column.\n",
    "```\n",
    "import numpy as np\n",
    "mat = np.array([[1,21,3],[5,4,2],[56,12,4]])\n",
    "```"
   ]
  },
  {
   "cell_type": "code",
   "execution_count": null,
   "id": "d583bb7a-f8da-4df2-aad2-a822ba819a08",
   "metadata": {},
   "outputs": [],
   "source": []
  },
  {
   "cell_type": "markdown",
   "id": "fb028fbe-f18a-47e0-8499-003bbb1c5897",
   "metadata": {},
   "source": [
    "### 5. Given an array arr, find the top 4 maximum values.\n",
    "``` \n",
    "import numpy as np\n",
    "arr = np.array([90, 14, 24, 13, 13, 590, 0, 45, 16, 50])\n",
    "```"
   ]
  },
  {
   "cell_type": "code",
   "execution_count": null,
   "id": "6ed79794-19a5-46c9-8606-bc5612372011",
   "metadata": {},
   "outputs": [],
   "source": []
  },
  {
   "cell_type": "markdown",
   "id": "a7bf5085-d9a1-4f7d-b453-71ab1f7ad522",
   "metadata": {},
   "source": [
    "### 6. Find the nearest number from the given number in an array.\n",
    "```\n",
    "arr = np.array([10,55,22,3,6,44,9,54])\n",
    "nearest_to = 50\n",
    "```"
   ]
  },
  {
   "cell_type": "code",
   "execution_count": null,
   "id": "7b8bc669-c06e-4d70-a4ff-9ec87ec1a11d",
   "metadata": {},
   "outputs": [],
   "source": []
  }
 ],
 "metadata": {
  "kernelspec": {
   "display_name": "Python [conda env:base] *",
   "language": "python",
   "name": "conda-base-py"
  },
  "language_info": {
   "codemirror_mode": {
    "name": "ipython",
    "version": 3
   },
   "file_extension": ".py",
   "mimetype": "text/x-python",
   "name": "python",
   "nbconvert_exporter": "python",
   "pygments_lexer": "ipython3",
   "version": "3.13.5"
  }
 },
 "nbformat": 4,
 "nbformat_minor": 5
}
